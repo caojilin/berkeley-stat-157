{
 "cells": [
  {
   "cell_type": "code",
   "execution_count": 3,
   "metadata": {
    "ExecuteTime": {
     "end_time": "2019-02-27T04:55:23.406057Z",
     "start_time": "2019-02-27T04:55:23.148690Z"
    }
   },
   "outputs": [
    {
     "data": {
      "image/png": "[encoded data removed]",
      "text/plain": [
       "<Figure size 432x288 with 1 Axes>"
      ]
     },
     "metadata": {
      "needs_background": "light"
     },
     "output_type": "display_data"
    }
   ],
   "source": [
    "import mxnet as mx\n",
    "from mxnet import nd, autograd, gluon\n",
    "import matplotlib.pyplot as plt\n",
    "\n",
    "def logistic(z):\n",
    "    return 1. / (1. + nd.exp(-z))\n",
    "\n",
    "x = nd.arange(-5, 5, .1)\n",
    "y = logistic(x)\n",
    "\n",
    "plt.plot(x.asnumpy(),y.asnumpy())\n",
    "plt.show()"
   ]
  },
  {
   "cell_type": "code",
   "execution_count": 8,
   "metadata": {
    "ExecuteTime": {
     "end_time": "2019-02-27T04:56:33.380490Z",
     "start_time": "2019-02-27T04:56:33.365055Z"
    }
   },
   "outputs": [],
   "source": [
    "\n",
    "data_ctx = mx.cpu()\n",
    "# Change this to `mx.gpu(0) if you would like to train on an NVIDIA GPU\n",
    "model_ctx = mx.cpu()\n",
    "\n",
    "with open(\"a1atrain.txt\") as f:\n",
    "    train_raw = f.read()\n",
    "\n",
    "with open(\"a1atest.txt\") as f:\n",
    "    test_raw = f.read()"
   ]
  },
  {
   "cell_type": "code",
   "execution_count": 9,
   "metadata": {
    "ExecuteTime": {
     "end_time": "2019-02-27T04:56:56.387855Z",
     "start_time": "2019-02-27T04:56:56.376903Z"
    }
   },
   "outputs": [],
   "source": [
    "def process_data(raw_data):\n",
    "    train_lines = raw_data.splitlines()\n",
    "    num_examples = len(train_lines)\n",
    "    num_features = 123\n",
    "    X = nd.zeros((num_examples, num_features), ctx=data_ctx)\n",
    "    Y = nd.zeros((num_examples, 1), ctx=data_ctx)\n",
    "    for i, line in enumerate(train_lines):\n",
    "        tokens = line.split()\n",
    "        label = (int(tokens[0]) + 1) / 2  # Change label from {-1,1} to {0,1}\n",
    "        Y[i] = label\n",
    "        for token in tokens[1:]:\n",
    "            index = int(token[:-2]) - 1\n",
    "            X[i, index] = 1\n",
    "    return X, Y"
   ]
  },
  {
   "cell_type": "code",
   "execution_count": 10,
   "metadata": {
    "ExecuteTime": {
     "end_time": "2019-02-27T04:57:35.584079Z",
     "start_time": "2019-02-27T04:56:56.908455Z"
    }
   },
   "outputs": [],
   "source": [
    "Xtrain, Ytrain = process_data(train_raw)\n",
    "Xtest, Ytest = process_data(test_raw)"
   ]
  },
  {
   "cell_type": "code",
   "execution_count": 11,
   "metadata": {
    "ExecuteTime": {
     "end_time": "2019-02-27T04:57:35.611284Z",
     "start_time": "2019-02-27T04:57:35.594111Z"
    }
   },
   "outputs": [
    {
     "name": "stdout",
     "output_type": "stream",
     "text": [
      "(1605, 123)\n",
      "(1605, 1)\n",
      "(30956, 123)\n",
      "(30956, 1)\n"
     ]
    }
   ],
   "source": [
    "print(Xtrain.shape)\n",
    "print(Ytrain.shape)\n",
    "print(Xtest.shape)\n",
    "print(Ytest.shape)"
   ]
  },
  {
   "cell_type": "code",
   "execution_count": 12,
   "metadata": {
    "ExecuteTime": {
     "end_time": "2019-02-27T04:57:35.650663Z",
     "start_time": "2019-02-27T04:57:35.615774Z"
    }
   },
   "outputs": [
    {
     "name": "stdout",
     "output_type": "stream",
     "text": [
      "\n",
      "[0.24610592]\n",
      "<NDArray 1 @cpu(0)>\n",
      "\n",
      "[0.24053495]\n",
      "<NDArray 1 @cpu(0)>\n"
     ]
    }
   ],
   "source": [
    "print(nd.sum(Ytrain)/len(Ytrain))\n",
    "print(nd.sum(Ytest)/len(Ytest))"
   ]
  },
  {
   "cell_type": "code",
   "execution_count": 13,
   "metadata": {
    "ExecuteTime": {
     "end_time": "2019-02-27T04:57:41.919674Z",
     "start_time": "2019-02-27T04:57:41.913244Z"
    }
   },
   "outputs": [],
   "source": [
    "batch_size = 64\n",
    "\n",
    "train_data = gluon.data.DataLoader(gluon.data.ArrayDataset(Xtrain, Ytrain),\n",
    "                                      batch_size=batch_size, shuffle=True)\n",
    "\n",
    "test_data = gluon.data.DataLoader(gluon.data.ArrayDataset(Xtest, Ytest),\n",
    "                                      batch_size=batch_size, shuffle=True)"
   ]
  },
  {
   "cell_type": "code",
   "execution_count": 14,
   "metadata": {
    "ExecuteTime": {
     "end_time": "2019-02-27T04:57:49.564984Z",
     "start_time": "2019-02-27T04:57:49.553077Z"
    }
   },
   "outputs": [],
   "source": [
    "net = gluon.nn.Dense(1)\n",
    "net.collect_params().initialize(mx.init.Normal(sigma=1.), ctx=model_ctx)"
   ]
  },
  {
   "cell_type": "code",
   "execution_count": 15,
   "metadata": {
    "ExecuteTime": {
     "end_time": "2019-02-27T04:57:57.538483Z",
     "start_time": "2019-02-27T04:57:57.532008Z"
    }
   },
   "outputs": [],
   "source": [
    "trainer = gluon.Trainer(net.collect_params(), 'sgd', {'learning_rate': 0.01})\n"
   ]
  },
  {
   "cell_type": "code",
   "execution_count": 16,
   "metadata": {
    "ExecuteTime": {
     "end_time": "2019-02-27T04:58:04.136540Z",
     "start_time": "2019-02-27T04:58:04.128913Z"
    }
   },
   "outputs": [],
   "source": [
    "def log_loss(output, y):\n",
    "    yhat = logistic(output)\n",
    "    return  - nd.nansum(  y * nd.log(yhat) + (1-y) * nd.log(1-yhat))"
   ]
  },
  {
   "cell_type": "code",
   "execution_count": 17,
   "metadata": {
    "ExecuteTime": {
     "end_time": "2019-02-27T04:58:13.801168Z",
     "start_time": "2019-02-27T04:58:10.304003Z"
    }
   },
   "outputs": [
    {
     "name": "stdout",
     "output_type": "stream",
     "text": [
      "Epoch 0, loss: 2091.8096163272858\n",
      "Epoch 1, loss: 1983.1064975261688\n",
      "Epoch 2, loss: 1886.821885585785\n",
      "Epoch 3, loss: 1802.5302715301514\n",
      "Epoch 4, loss: 1729.8911657333374\n",
      "Epoch 5, loss: 1668.039888381958\n",
      "Epoch 6, loss: 1615.7548598647118\n",
      "Epoch 7, loss: 1571.1981191635132\n",
      "Epoch 8, loss: 1533.6484870910645\n",
      "Epoch 9, loss: 1501.8312501907349\n",
      "Epoch 10, loss: 1474.3323120474815\n",
      "Epoch 11, loss: 1450.4569683074951\n",
      "Epoch 12, loss: 1429.6504392623901\n",
      "Epoch 13, loss: 1410.5726482868195\n",
      "Epoch 14, loss: 1393.4118461608887\n",
      "Epoch 15, loss: 1377.515421628952\n",
      "Epoch 16, loss: 1362.95581305027\n",
      "Epoch 17, loss: 1349.1225657463074\n",
      "Epoch 18, loss: 1336.1075270175934\n",
      "Epoch 19, loss: 1323.623859256506\n",
      "Epoch 20, loss: 1311.8782153129578\n",
      "Epoch 21, loss: 1300.3182944059372\n",
      "Epoch 22, loss: 1289.3274611234665\n",
      "Epoch 23, loss: 1278.662878036499\n",
      "Epoch 24, loss: 1268.5139541625977\n",
      "Epoch 25, loss: 1258.5402975082397\n",
      "Epoch 26, loss: 1248.8959431648254\n",
      "Epoch 27, loss: 1239.484607219696\n",
      "Epoch 28, loss: 1230.294638633728\n",
      "Epoch 29, loss: 1221.5875959396362\n"
     ]
    }
   ],
   "source": [
    "epochs = 30\n",
    "loss_sequence = []\n",
    "num_examples = len(Xtrain)\n",
    "\n",
    "for e in range(epochs):\n",
    "    cumulative_loss = 0\n",
    "    for i, (data, label) in enumerate(train_data):\n",
    "        data = data.as_in_context(model_ctx)\n",
    "        label = label.as_in_context(model_ctx)\n",
    "        with autograd.record():\n",
    "            output = net(data)\n",
    "            loss = log_loss(output, label)\n",
    "        loss.backward()\n",
    "        trainer.step(batch_size)\n",
    "        cumulative_loss += nd.sum(loss).asscalar()\n",
    "    print(\"Epoch %s, loss: %s\" % (e, cumulative_loss ))\n",
    "    loss_sequence.append(cumulative_loss)"
   ]
  },
  {
   "cell_type": "code",
   "execution_count": 18,
   "metadata": {
    "ExecuteTime": {
     "end_time": "2019-02-27T04:58:19.594309Z",
     "start_time": "2019-02-27T04:58:19.277284Z"
    }
   },
   "outputs": [
    {
     "data": {
      "text/plain": [
       "Text(0, 0.5, 'average loss')"
      ]
     },
     "execution_count": 18,
     "metadata": {},
     "output_type": "execute_result"
    },
    {
     "data": {
      "image/png": "[encoded data removed]",
      "text/plain": [
       "<Figure size 576x432 with 1 Axes>"
      ]
     },
     "metadata": {
      "needs_background": "light"
     },
     "output_type": "display_data"
    }
   ],
   "source": [
    "# plot the convergence of the estimated loss function\n",
    "%matplotlib inline\n",
    "\n",
    "import matplotlib\n",
    "import matplotlib.pyplot as plt\n",
    "\n",
    "plt.figure(num=None,figsize=(8, 6))\n",
    "plt.plot(loss_sequence)\n",
    "\n",
    "# Adding some bells and whistles to the plot\n",
    "plt.grid(True, which=\"both\")\n",
    "plt.xlabel('epoch',fontsize=14)\n",
    "plt.ylabel('average loss',fontsize=14)"
   ]
  },
  {
   "cell_type": "code",
   "execution_count": 19,
   "metadata": {
    "ExecuteTime": {
     "end_time": "2019-02-27T04:58:30.592986Z",
     "start_time": "2019-02-27T04:58:29.439889Z"
    }
   },
   "outputs": [
    {
     "name": "stdout",
     "output_type": "stream",
     "text": [
      "Accuracy: 0.735 (22766.0/30956)\n"
     ]
    }
   ],
   "source": [
    "num_correct = 0.0\n",
    "num_total = len(Xtest)\n",
    "for i, (data, label) in enumerate(test_data):\n",
    "    data = data.as_in_context(model_ctx)\n",
    "    label = label.as_in_context(model_ctx)\n",
    "    output = net(data)\n",
    "    prediction = (nd.sign(output) + 1) / 2\n",
    "    num_correct += nd.sum(prediction == label)\n",
    "print(\"Accuracy: %0.3f (%s/%s)\" % (num_correct.asscalar()/num_total, num_correct.asscalar(), num_total))"
   ]
  },
  {
   "cell_type": "code",
   "execution_count": null,
   "metadata": {},
   "outputs": [],
   "source": []
  }
 ],
 "metadata": {
  "kernelspec": {
   "display_name": "Python 3",
   "language": "python",
   "name": "python3"
  },
  "language_info": {
   "codemirror_mode": {
    "name": "ipython",
    "version": 3
   },
   "file_extension": ".py",
   "mimetype": "text/x-python",
   "name": "python",
   "nbconvert_exporter": "python",
   "pygments_lexer": "ipython3",
   "version": "3.6.3"
  }
 },
 "nbformat": 4,
 "nbformat_minor": 2
}
