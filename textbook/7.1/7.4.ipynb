{
 "cells": [
  {
   "cell_type": "code",
   "execution_count": 2,
   "metadata": {
    "ExecuteTime": {
     "end_time": "2019-03-08T06:01:58.866217Z",
     "start_time": "2019-03-08T06:01:58.844687Z"
    }
   },
   "outputs": [
    {
     "name": "stdout",
     "output_type": "stream",
     "text": [
      "number of characters:  197070\n",
      "the time machine, by h. g. wells [1898] i the time traveller (for so i\n"
     ]
    }
   ],
   "source": [
    "import sys\n",
    "# sys.path.insert(0, '..')\n",
    "\n",
    "from mxnet import nd\n",
    "import random\n",
    "\n",
    "with open('35.txt', 'r') as f:\n",
    "    lines = f.readlines()\n",
    "    raw_dataset = ' '.join(' '.join(lines).lower().split())\n",
    "\n",
    "print('number of characters: ', len(raw_dataset))\n",
    "print(raw_dataset[0:70])"
   ]
  },
  {
   "cell_type": "code",
   "execution_count": 4,
   "metadata": {
    "ExecuteTime": {
     "end_time": "2019-03-08T06:04:46.471409Z",
     "start_time": "2019-03-08T06:04:46.459316Z"
    }
   },
   "outputs": [
    {
     "name": "stdout",
     "output_type": "stream",
     "text": [
      "{'k': 0, '9': 1, ',': 2, '?': 3, 'c': 4, '4': 5, \"'\": 6, '.': 7, 'j': 8, 'b': 9, 'r': 10, '%': 11, 'p': 12, 'm': 13, 'n': 14, '2': 15, '0': 16, 'x': 17, '_': 18, 'q': 19, 'i': 20, 'g': 21, 'v': 22, 'a': 23, 't': 24, ')': 25, '[': 26, 'f': 27, 'o': 28, '\"': 29, '*': 30, 'd': 31, '7': 32, 'z': 33, '@': 34, '5': 35, 'u': 36, 's': 37, '!': 38, 'w': 39, 'e': 40, '$': 41, ';': 42, '3': 43, ':': 44, '1': 45, '8': 46, '/': 47, '6': 48, ' ': 49, 'y': 50, 'h': 51, 'l': 52, '(': 53, '-': 54, ']': 55}\n"
     ]
    }
   ],
   "source": [
    "idx_to_char = list(set(raw_dataset))\n",
    "char_to_idx = dict([(char, i) for i, char in enumerate(idx_to_char)])\n",
    "vocab_size = len(char_to_idx)\n",
    "print(char_to_idx)"
   ]
  },
  {
   "cell_type": "code",
   "execution_count": 5,
   "metadata": {
    "ExecuteTime": {
     "end_time": "2019-03-08T06:05:20.059052Z",
     "start_time": "2019-03-08T06:05:20.030928Z"
    }
   },
   "outputs": [
    {
     "name": "stdout",
     "output_type": "stream",
     "text": [
      "chars: the time machine, by\n",
      "indices: [24, 51, 40, 49, 24, 20, 13, 40, 49, 13, 23, 4, 51, 20, 14, 40, 2, 49, 9, 50]\n"
     ]
    }
   ],
   "source": [
    "corpus_indices = [char_to_idx[char] for char in raw_dataset]\n",
    "sample = corpus_indices[:20]\n",
    "print('chars:', ''.join([idx_to_char[idx] for idx in sample]))\n",
    "print('indices:', sample)"
   ]
  },
  {
   "cell_type": "code",
   "execution_count": 6,
   "metadata": {
    "ExecuteTime": {
     "end_time": "2019-03-08T06:12:54.821350Z",
     "start_time": "2019-03-08T06:12:54.807620Z"
    }
   },
   "outputs": [],
   "source": [
    "# This function is saved in the d2l package for future use\n",
    "def data_iter_random(corpus_indices, batch_size, num_steps, ctx=None):\n",
    "    # Offset for the iterator over the data for uniform starts\n",
    "    offset = int(random.uniform(0,num_steps))\n",
    "    corpus_indices = corpus_indices[offset:]\n",
    "    # Subtract 1 extra since we need to account for the sequence length\n",
    "    num_examples = ((len(corpus_indices) - 1) // num_steps) - 1\n",
    "    # Discard half empty batches\n",
    "    num_batches = num_examples // batch_size\n",
    "    example_indices = list(range(0, num_examples * num_steps, num_steps))\n",
    "    random.shuffle(example_indices)\n",
    "\n",
    "    # This returns a sequence of the length num_steps starting from pos\n",
    "    def _data(pos):\n",
    "        return corpus_indices[pos: pos + num_steps]\n",
    "\n",
    "    for i in range(0, batch_size * num_batches, batch_size):\n",
    "        # Batch_size indicates the random examples read each time\n",
    "        batch_indices = example_indices[i:(i+batch_size)]\n",
    "        X = [_data(j) for j in batch_indices]\n",
    "        Y = [_data(j + 1) for j in batch_indices]\n",
    "        yield nd.array(X, ctx), nd.array(Y, ctx)"
   ]
  },
  {
   "cell_type": "code",
   "execution_count": 29,
   "metadata": {
    "ExecuteTime": {
     "end_time": "2019-03-08T06:17:49.158951Z",
     "start_time": "2019-03-08T06:17:49.136787Z"
    }
   },
   "outputs": [
    {
     "name": "stdout",
     "output_type": "stream",
     "text": [
      "X:  \n",
      "[[13. 14. 15.]\n",
      " [10. 11. 12.]]\n",
      "<NDArray 2x3 @cpu(0)> \n",
      "Y: \n",
      "[[14. 15. 16.]\n",
      " [11. 12. 13.]]\n",
      "<NDArray 2x3 @cpu(0)>\n",
      "X:  \n",
      "[[4. 5. 6.]\n",
      " [1. 2. 3.]]\n",
      "<NDArray 2x3 @cpu(0)> \n",
      "Y: \n",
      "[[5. 6. 7.]\n",
      " [2. 3. 4.]]\n",
      "<NDArray 2x3 @cpu(0)>\n",
      "X:  \n",
      "[[22. 23. 24.]\n",
      " [ 7.  8.  9.]]\n",
      "<NDArray 2x3 @cpu(0)> \n",
      "Y: \n",
      "[[23. 24. 25.]\n",
      " [ 8.  9. 10.]]\n",
      "<NDArray 2x3 @cpu(0)>\n",
      "X:  \n",
      "[[16. 17. 18.]\n",
      " [19. 20. 21.]]\n",
      "<NDArray 2x3 @cpu(0)> \n",
      "Y: \n",
      "[[17. 18. 19.]\n",
      " [20. 21. 22.]]\n",
      "<NDArray 2x3 @cpu(0)>\n"
     ]
    }
   ],
   "source": [
    "my_seq = list(range(30))\n",
    "for X, Y in data_iter_random(my_seq, batch_size=2, num_steps=3):\n",
    "    print('X: ', X, '\\nY:', Y)\n"
   ]
  },
  {
   "cell_type": "code",
   "execution_count": 30,
   "metadata": {
    "ExecuteTime": {
     "end_time": "2019-03-08T06:19:36.082153Z",
     "start_time": "2019-03-08T06:19:36.073698Z"
    }
   },
   "outputs": [],
   "source": [
    "# This function is saved in the d2l package for future use\n",
    "def data_iter_consecutive(corpus_indices, batch_size, num_steps, ctx=None):\n",
    "    # Offset for the iterator over the data for uniform starts\n",
    "    offset = int(random.uniform(0,num_steps))\n",
    "    # Slice out data - ignore num_steps and just wrap around\n",
    "    num_indices = ((len(corpus_indices) - offset) // batch_size) * batch_size\n",
    "    indices = nd.array(corpus_indices[offset:(offset + num_indices)], ctx=ctx)\n",
    "    indices = indices.reshape((batch_size,-1))\n",
    "    # Need to leave one last token since targets are shifted by 1\n",
    "    num_epochs = ((num_indices // batch_size) - 1) // num_steps\n",
    "\n",
    "    for i in range(0, num_epochs * num_steps, num_steps):\n",
    "        X = indices[:,i:(i+num_steps)]\n",
    "        Y = indices[:,(i+1):(i+1+num_steps)]\n",
    "        yield X, Y"
   ]
  },
  {
   "cell_type": "code",
   "execution_count": 32,
   "metadata": {
    "ExecuteTime": {
     "end_time": "2019-03-08T06:19:50.955426Z",
     "start_time": "2019-03-08T06:19:50.943638Z"
    }
   },
   "outputs": [
    {
     "name": "stdout",
     "output_type": "stream",
     "text": [
      "X:  \n",
      "[[ 1.  2.  3.  4.  5.]\n",
      " [15. 16. 17. 18. 19.]]\n",
      "<NDArray 2x5 @cpu(0)> \n",
      "Y: \n",
      "[[ 2.  3.  4.  5.  6.]\n",
      " [16. 17. 18. 19. 20.]]\n",
      "<NDArray 2x5 @cpu(0)>\n",
      "X:  \n",
      "[[ 6.  7.  8.  9. 10.]\n",
      " [20. 21. 22. 23. 24.]]\n",
      "<NDArray 2x5 @cpu(0)> \n",
      "Y: \n",
      "[[ 7.  8.  9. 10. 11.]\n",
      " [21. 22. 23. 24. 25.]]\n",
      "<NDArray 2x5 @cpu(0)>\n"
     ]
    }
   ],
   "source": [
    "for X, Y in data_iter_consecutive(my_seq, batch_size=2, num_steps=5):\n",
    "    print('X: ', X, '\\nY:', Y)"
   ]
  },
  {
   "cell_type": "code",
   "execution_count": null,
   "metadata": {},
   "outputs": [],
   "source": []
  }
 ],
 "metadata": {
  "kernelspec": {
   "display_name": "Python 3",
   "language": "python",
   "name": "python3"
  },
  "language_info": {
   "codemirror_mode": {
    "name": "ipython",
    "version": 3
   },
   "file_extension": ".py",
   "mimetype": "text/x-python",
   "name": "python",
   "nbconvert_exporter": "python",
   "pygments_lexer": "ipython3",
   "version": "3.6.3"
  }
 },
 "nbformat": 4,
 "nbformat_minor": 2
}
