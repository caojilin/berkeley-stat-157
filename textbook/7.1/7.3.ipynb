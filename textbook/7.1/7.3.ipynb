{
 "cells": [
  {
   "cell_type": "code",
   "execution_count": 1,
   "metadata": {
    "ExecuteTime": {
     "end_time": "2019-03-08T05:06:47.300831Z",
     "start_time": "2019-03-08T05:06:45.990833Z"
    }
   },
   "outputs": [],
   "source": [
    "from mxnet import nd\n",
    "\n",
    "# Data X and hidden state H\n",
    "X = nd.random.normal(shape=(3, 1))\n",
    "H = nd.random.normal(shape=(3, 2))\n",
    "\n",
    "# Weights\n",
    "W_xh = nd.random.normal(shape=(1, 2))\n",
    "W_hh = nd.random.normal(shape=(2, 2))\n",
    "W_hq = nd.random.normal(shape=(2, 3))\n",
    "\n",
    "def net(X, H):\n",
    "    H = nd.relu(nd.dot(X, W_xh) + nd.dot(H, W_hh))\n",
    "    O = nd.relu(nd.dot(H, W_hq))\n",
    "    return H, O"
   ]
  },
  {
   "cell_type": "code",
   "execution_count": 10,
   "metadata": {
    "ExecuteTime": {
     "end_time": "2019-03-08T05:38:10.309962Z",
     "start_time": "2019-03-08T05:38:10.299712Z"
    }
   },
   "outputs": [
    {
     "name": "stdout",
     "output_type": "stream",
     "text": [
      "\n",
      "[[3.1894968  0.9141049 ]\n",
      " [0.51471996 0.        ]\n",
      " [2.0218253  2.1844263 ]]\n",
      "<NDArray 3x2 @cpu(0)> \n",
      "[[2.2920508  1.2606765  0.        ]\n",
      " [0.21111983 0.29404315 0.        ]\n",
      " [3.1803353  0.         0.        ]]\n",
      "<NDArray 3x3 @cpu(0)>\n"
     ]
    }
   ],
   "source": [
    "(H, O) = net(X,H)\n",
    "print(H, O)"
   ]
  },
  {
   "cell_type": "code",
   "execution_count": null,
   "metadata": {},
   "outputs": [],
   "source": []
  }
 ],
 "metadata": {
  "kernelspec": {
   "display_name": "Python 3",
   "language": "python",
   "name": "python3"
  },
  "language_info": {
   "codemirror_mode": {
    "name": "ipython",
    "version": 3
   },
   "file_extension": ".py",
   "mimetype": "text/x-python",
   "name": "python",
   "nbconvert_exporter": "python",
   "pygments_lexer": "ipython3",
   "version": "3.6.3"
  }
 },
 "nbformat": 4,
 "nbformat_minor": 2
}
