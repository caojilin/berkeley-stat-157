{
 "cells": [
  {
   "cell_type": "code",
   "execution_count": 4,
   "metadata": {
    "ExecuteTime": {
     "end_time": "2019-03-13T21:25:11.934410Z",
     "start_time": "2019-03-13T21:25:11.357601Z"
    }
   },
   "outputs": [
    {
     "name": "stdout",
     "output_type": "stream",
     "text": [
      "The input picture is classified to be\n",
      "- [Welsh springer spaniel], with probability 0.899.\n",
      "- [Irish setter], with probability 0.005.\n",
      "- [Brittany spaniel], with probability 0.003.\n",
      "- [cocker spaniel], with probability 0.002.\n",
      "- [Blenheim spaniel], with probability 0.002.\n"
     ]
    }
   ],
   "source": [
    "import mxnet as mx\n",
    "import gluoncv\n",
    "\n",
    "# you can change it to your image filename\n",
    "filename = 'classification-demo.png'\n",
    "# you may modify it to switch to another model. The name is case-insensitive\n",
    "model_name = 'ResNet50_v1d'\n",
    "# download and load the pre-trained model\n",
    "net = gluoncv.model_zoo.get_model(model_name, pretrained=True)\n",
    "# load image\n",
    "img = mx.image.imread(filename)\n",
    "# apply default data preprocessing\n",
    "transformed_img = gluoncv.data.transforms.presets.imagenet.transform_eval(img)\n",
    "# run forward pass to obtain the predicted score for each class\n",
    "pred = net(transformed_img)\n",
    "# map predicted values to probability by softmax\n",
    "prob = mx.nd.softmax(pred)[0].asnumpy()\n",
    "# find the 5 class indices with the highest score\n",
    "ind = mx.nd.topk(pred, k=5)[0].astype('int').asnumpy().tolist()\n",
    "# print the class name and predicted probability\n",
    "print('The input picture is classified to be')\n",
    "for i in range(5):\n",
    "    print('- [%s], with probability %.3f.'%(net.classes[ind[i]], prob[ind[i]]))"
   ]
  },
  {
   "cell_type": "code",
   "execution_count": null,
   "metadata": {},
   "outputs": [],
   "source": []
  },
  {
   "cell_type": "code",
   "execution_count": null,
   "metadata": {},
   "outputs": [],
   "source": []
  }
 ],
 "metadata": {
  "kernelspec": {
   "display_name": "Python 3",
   "language": "python",
   "name": "python3"
  },
  "language_info": {
   "codemirror_mode": {
    "name": "ipython",
    "version": 3
   },
   "file_extension": ".py",
   "mimetype": "text/x-python",
   "name": "python",
   "nbconvert_exporter": "python",
   "pygments_lexer": "ipython3",
   "version": "3.6.3"
  }
 },
 "nbformat": 4,
 "nbformat_minor": 2
}
