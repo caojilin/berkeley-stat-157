{
 "cells": [
  {
   "cell_type": "markdown",
   "metadata": {},
   "source": [
    "#  Homework 5 - Berkeley STAT 157\n",
    "\n",
    "**Your name: XX, SID YY** (Please add your name, and SID to ease Ryan and Rachel to grade.)\n",
    "\n",
    "**Please submit your homework through [gradescope](http://gradescope.com/) instead of Github, so you will get the score distribution for each question. Please enroll in the [class](https://www.gradescope.com/courses/42432) by the Entry code: MXG5G5** \n",
    "\n",
    "Handout 2/19/2019, due 2/26/2019 by 4pm in Git by committing to your repository.\n",
    "\n",
    "In this homework, we will model covariate shift and attempt to fix it using logistic regression. This is a fairly realistic scenario for data scientists. To keep things well under control and understandable we will use [Fashion-MNIST](http://d2l.ai/chapter_linear-networks/fashion-mnist.html) as the data to experiment on. \n",
    "\n",
    "Follow the instructions from the Fashion MNIST notebook to get the data."
   ]
  },
  {
   "cell_type": "code",
   "execution_count": 109,
   "metadata": {
    "ExecuteTime": {
     "end_time": "2019-02-26T21:29:05.201869Z",
     "start_time": "2019-02-26T21:29:04.691027Z"
    },
    "attributes": {
     "classes": [],
     "id": "",
     "n": "3"
    },
    "scrolled": true
   },
   "outputs": [],
   "source": [
    "%matplotlib inline\n",
    "from mxnet import autograd, gluon, init, nd\n",
    "from mxnet.gluon import data as gdata, loss as gloss, nn, utils\n",
    "import numpy as np\n",
    "from matplotlib import pyplot as plt\n",
    "import mxnet as mx\n",
    "\n",
    "mnist_train = gdata.vision.FashionMNIST(train=True)\n",
    "mnist_test = gdata.vision.FashionMNIST(train=False)"
   ]
  },
  {
   "cell_type": "markdown",
   "metadata": {},
   "source": [
    "## 1. Logistic Regression\n",
    "\n",
    "1. Implement the logistic loss function $l(y,f) = -\\log(1 + \\exp(-y f))$ in Gluon.\n",
    "2. Plot its values and its derivative for $y = 1$ and $f \\in [-5, 5]$, using automatic differentiation in Gluon.\n",
    "3. Generate training and test datasets for a binary classification problem using Fashion-MNIST with class $1$ being a combination of `shirt` and `sweater` and class $-1$ being the combination of `sandal` and `sneaker` categories. \n",
    "4. Train a binary classifier of your choice (it can be linear or a simple MLP such as from a previous lecture) using half the data (i.e. $12,000$ observations mixed as abvove) and one using the full dataset (i.e. $24,000$ observations as arising from the 4 categories) and report its accuracy. \n",
    "\n",
    "Hint - you should encapsulate the training and reporting code in a callable function since you'll need it quite a bit in the following. "
   ]
  },
  {
   "cell_type": "code",
   "execution_count": 110,
   "metadata": {
    "ExecuteTime": {
     "end_time": "2019-02-26T21:29:06.929071Z",
     "start_time": "2019-02-26T21:29:06.701422Z"
    },
    "scrolled": true
   },
   "outputs": [
    {
     "data": {
      "image/png": "[encoded data removed]",
      "text/plain": [
       "<Figure size 432x288 with 1 Axes>"
      ]
     },
     "metadata": {
      "needs_background": "light"
     },
     "output_type": "display_data"
    }
   ],
   "source": [
    "def logisticLoss(f, y):\n",
    "    return -nd.log(1 + nd.exp(-y * f))\n",
    "\n",
    "y = nd.ones(1)\n",
    "f = nd.arange(-5, 5, 0.1)\n",
    "f.attach_grad()\n",
    "with autograd.record():\n",
    "    l = logisticLoss(f, y)\n",
    "l.backward()\n",
    "\n",
    "plt.plot(f.asnumpy(), f.grad.asnumpy(), label='derivative')\n",
    "plt.plot(f.asnumpy(), l.asnumpy(), label = 'loss value')\n",
    "plt.legend()\n",
    "plt.show()\n"
   ]
  },
  {
   "cell_type": "code",
   "execution_count": 236,
   "metadata": {
    "ExecuteTime": {
     "end_time": "2019-02-26T22:06:53.432549Z",
     "start_time": "2019-02-26T22:06:53.424566Z"
    }
   },
   "outputs": [],
   "source": [
    "train_features = mnist_train[:][0] \n",
    "train_labels = mnist_train[:][1]\n",
    "test_features = mnist_test[:][0] \n",
    "test_labels = mnist_test[:][1]"
   ]
  },
  {
   "cell_type": "code",
   "execution_count": 112,
   "metadata": {
    "ExecuteTime": {
     "end_time": "2019-02-26T21:29:11.636660Z",
     "start_time": "2019-02-26T21:29:07.951717Z"
    }
   },
   "outputs": [],
   "source": [
    "train_shoes = [nd.array(x, dtype='float32') for x, y in zip(train_features, train_labels) if y == 5 or y == 7]\n",
    "train_cloths = [nd.array(x, dtype='float32') for x, y in zip(train_features, train_labels) if y == 2 or y == 6]\n",
    "train = train_shoes + train_cloths\n",
    "\n",
    "a = nd.repeat(nd.array([-1], dtype='float32'), repeats = 12000)\n",
    "b = nd.repeat(nd.array([1], dtype='float32'), repeats = 12000)\n",
    "train_label = nd.concat(a, b, dim=0)"
   ]
  },
  {
   "cell_type": "code",
   "execution_count": 113,
   "metadata": {
    "ExecuteTime": {
     "end_time": "2019-02-26T21:29:12.345528Z",
     "start_time": "2019-02-26T21:29:11.640336Z"
    }
   },
   "outputs": [],
   "source": [
    "test_shoes = [nd.array(x, dtype='float32') for x, y in zip(test_features, test_labels) if y == 5 or y == 7]\n",
    "test_cloths = [nd.array(x, dtype='float32') for x, y in zip(test_features, test_labels) if y == 2 or y == 6]\n",
    "test = test_shoes + test_cloths\n",
    "\n",
    "a = nd.repeat(nd.array([-1], dtype='float32'), repeats = 2000)\n",
    "b = nd.repeat(nd.array([1], dtype='float32'), repeats = 2000)\n",
    "test_label = nd.concat(a, b, dim=0)"
   ]
  },
  {
   "cell_type": "code",
   "execution_count": 114,
   "metadata": {
    "ExecuteTime": {
     "end_time": "2019-02-26T21:29:12.983732Z",
     "start_time": "2019-02-26T21:29:12.977821Z"
    }
   },
   "outputs": [],
   "source": [
    "batch_size = 64"
   ]
  },
  {
   "cell_type": "code",
   "execution_count": 243,
   "metadata": {
    "ExecuteTime": {
     "end_time": "2019-02-26T22:13:13.085985Z",
     "start_time": "2019-02-26T22:13:13.078305Z"
    },
    "scrolled": true
   },
   "outputs": [],
   "source": [
    "def get_iter(train, train_label, test, test_label ):   \n",
    "    train_iter = gdata.DataLoader(gdata.ArrayDataset(\n",
    "        train, train_label), batch_size, shuffle=True)\n",
    "\n",
    "    test_iter = gdata.DataLoader(gdata.ArrayDataset(\n",
    "        test, test_label), batch_size, shuffle=False)\n",
    "    return train_iter, test_iter"
   ]
  },
  {
   "cell_type": "code",
   "execution_count": 141,
   "metadata": {
    "ExecuteTime": {
     "end_time": "2019-02-26T21:35:11.424823Z",
     "start_time": "2019-02-26T21:35:11.416795Z"
    }
   },
   "outputs": [],
   "source": [
    "def getnet(): \n",
    "    net = nn.Sequential()\n",
    "    net.add(nn.Dense(1))\n",
    "    net.initialize()\n",
    "    return net"
   ]
  },
  {
   "cell_type": "code",
   "execution_count": 187,
   "metadata": {
    "ExecuteTime": {
     "end_time": "2019-02-26T21:45:31.489128Z",
     "start_time": "2019-02-26T21:45:31.479746Z"
    }
   },
   "outputs": [],
   "source": [
    "num_epochs = 5\n",
    "# los = logisticLoss\n",
    "los = gloss.SigmoidBinaryCrossEntropyLoss()\n",
    "net = getnet()\n",
    "\n",
    "trainer = gluon.Trainer(net.collect_params(), 'sgd', {'learning_rate': 0.05})"
   ]
  },
  {
   "cell_type": "code",
   "execution_count": 188,
   "metadata": {
    "ExecuteTime": {
     "end_time": "2019-02-26T21:45:31.925134Z",
     "start_time": "2019-02-26T21:45:31.916016Z"
    }
   },
   "outputs": [],
   "source": [
    "def accuracy(y_hat, y):\n",
    "    return (y_hat.argmax(axis=1) == y.astype('float32')).mean().asscalar()\n",
    "\n",
    "def evaluate_accuracy(data_iter, net):\n",
    "    acc_sum, n = 0.0, 0\n",
    "    for X, y in data_iter:\n",
    "        y = y.astype('float32')\n",
    "        acc_sum += (net(X) > 0).sum().asscalar()\n",
    "        n += y.size\n",
    "    return acc_sum / n"
   ]
  },
  {
   "cell_type": "code",
   "execution_count": 273,
   "metadata": {
    "ExecuteTime": {
     "end_time": "2019-02-26T22:47:09.174735Z",
     "start_time": "2019-02-26T22:47:06.694974Z"
    },
    "scrolled": true
   },
   "outputs": [],
   "source": [
    "def train(train_iter , test_iter):\n",
    "    for epoch in range(num_epochs):\n",
    "        for X, y in train_iter:\n",
    "            with autograd.record():\n",
    "                yhat = net(X)\n",
    "                l = los(yhat, y)\n",
    "            l.backward()\n",
    "            trainer.step(batch_size)\n",
    "        test_acc = evaluate_accuracy(test_iter, net)\n",
    "#         print(test_acc)\n",
    "train(train_iter , test_iter)"
   ]
  },
  {
   "cell_type": "code",
   "execution_count": 191,
   "metadata": {
    "ExecuteTime": {
     "end_time": "2019-02-26T21:45:47.629606Z",
     "start_time": "2019-02-26T21:45:47.623820Z"
    },
    "scrolled": true
   },
   "outputs": [],
   "source": [
    "# net[0].weight.data()"
   ]
  },
  {
   "cell_type": "markdown",
   "metadata": {},
   "source": [
    "## 2. Covariate Shift\n",
    "\n",
    "Your goal is to introduce covariate shit in the data and observe the accuracy. For this, compose a dataset of $12,000$ observations, given by a mixture of `shirt` and `sweater` and of `sandal` and `sneaker` respectively, where you use a fraction $\\lambda \\in \\{0.05, 0.1, 0.2, \\ldots 0.8, 0.9, 0.95\\}$ of one and a fraction of $1-\\lambda$ of  the other datasets respectively. For instance, you might pick for $\\lambda = 0.1$ a total of $600$ `shirt` and $5,400$ `sweater` images and likewise $600$ `sandal` and $5,400$ `sneaker` photos, yielding a total of $12,000$ images for training. Note that the test set remains unbiased, composed of $2,000$ photos for the `shirt` + `sweater` category and of the `sandal` + `sneaker` category each.\n",
    "\n",
    "1. Generate training sets that are appropriately biased. You should have 11 datasets.\n",
    "2. Train a binary classifier using this and report the test set accuracy on the unbiased test set. "
   ]
  },
  {
   "cell_type": "code",
   "execution_count": 192,
   "metadata": {
    "ExecuteTime": {
     "end_time": "2019-02-26T21:45:50.634434Z",
     "start_time": "2019-02-26T21:45:50.616375Z"
    }
   },
   "outputs": [
    {
     "data": {
      "text/plain": [
       "\n",
       "[0.05       0.1        0.2        0.3        0.4        0.5\n",
       " 0.6        0.70000005 0.8        0.90000004 0.95      ]\n",
       "<NDArray 11 @cpu(0)>"
      ]
     },
     "execution_count": 192,
     "metadata": {},
     "output_type": "execute_result"
    }
   ],
   "source": [
    "lambd = nd.concat(nd.array([0.05]) , nd.arange(0.1, 1, 0.1), nd.array([0.95]), dim=0)\n",
    "lambd\n",
    "one_minus_lambd = 1 - lambd\n",
    "one_minus_lambd\n",
    "lambd"
   ]
  },
  {
   "cell_type": "code",
   "execution_count": 207,
   "metadata": {
    "ExecuteTime": {
     "end_time": "2019-02-26T21:48:38.609343Z",
     "start_time": "2019-02-26T21:48:38.598149Z"
    }
   },
   "outputs": [
    {
     "data": {
      "text/plain": [
       "\n",
       "[5700 5400 4800 4200 3600 3000 2400 1800 1200  600  300]\n",
       "<NDArray 11 @cpu(0)>"
      ]
     },
     "execution_count": 207,
     "metadata": {},
     "output_type": "execute_result"
    }
   ],
   "source": [
    "\n",
    "fraction = nd.array(6000 * lambd, dtype='int')\n",
    "fraction\n",
    "the_rest = 6000 - fraction\n",
    "the_rest"
   ]
  },
  {
   "cell_type": "code",
   "execution_count": 253,
   "metadata": {
    "ExecuteTime": {
     "end_time": "2019-02-26T22:19:55.335896Z",
     "start_time": "2019-02-26T22:18:56.846449Z"
    }
   },
   "outputs": [
    {
     "name": "stdout",
     "output_type": "stream",
     "text": [
      "6000\n",
      "12000\n",
      "6000\n",
      "12000\n",
      "6000\n",
      "12000\n",
      "6000\n",
      "12000\n",
      "6000\n",
      "12000\n",
      "6000\n",
      "12000\n",
      "6000\n",
      "12000\n",
      "6000\n",
      "12000\n",
      "6000\n",
      "12000\n",
      "6000\n",
      "12000\n",
      "6000\n",
      "12000\n"
     ]
    }
   ],
   "source": [
    "train_dataset = []\n",
    "train_label = []\n",
    "\n",
    "for k in range(len(lambd)):\n",
    "    frac = fraction[k].asscalar()\n",
    "    rest =  the_rest[k].asscalar()\n",
    "    \n",
    "    sandal = [nd.array(x, dtype='float32') for x, y in zip(train_features, train_labels) if y == 5]\n",
    "    sandal = sandal[:frac]\n",
    "    \n",
    "    sneaker  = [nd.array(x, dtype='float32') for x, y in zip(train_features, train_labels) if y == 7]\n",
    "    sneaker = sneaker[:rest]\n",
    "    train_shoes = sandal + sneaker\n",
    "    label_shoes = nd.repeat(nd.array([-1], dtype='float32'), repeats = 6000)\n",
    "\n",
    "    \n",
    "    shirt = [nd.array(x, dtype='float32') for x, y in zip(train_features, train_labels) if y == 6]\n",
    "    shirt = shirt[:frac]\n",
    "    \n",
    "    sweater  = [nd.array(x, dtype='float32') for x, y in zip(train_features, train_labels) if y == 2]\n",
    "    sweater = sweater[:rest]\n",
    "    train_cloths = shirt + sweater\n",
    "    label_cloths = nd.repeat(nd.array([1], dtype='float32'), repeats = 6000)\n",
    "    \n",
    "#     print(len(train_shoes))\n",
    "    train_dataset.append(train_shoes + train_cloths)\n",
    "    train_label.append(nd.concat(label_shoes, label_cloths, dim=0))\n",
    "#     print(len(nd.concat(label_shoes, label_cloths, dim=0)))\n"
   ]
  },
  {
   "cell_type": "code",
   "execution_count": 247,
   "metadata": {
    "ExecuteTime": {
     "end_time": "2019-02-26T22:15:16.346624Z",
     "start_time": "2019-02-26T22:15:15.699439Z"
    }
   },
   "outputs": [],
   "source": [
    "test_shoes = [nd.array(x, dtype='float32') for x, y in zip(test_features, test_labels) if y == 5 or y == 7]\n",
    "test_cloths = [nd.array(x, dtype='float32') for x, y in zip(test_features, test_labels) if y == 2 or y == 6]\n",
    "test_dataset = test_shoes + test_cloths\n",
    "\n",
    "a = nd.repeat(nd.array([-1], dtype='float32'), repeats = 2000)\n",
    "b = nd.repeat(nd.array([1], dtype='float32'), repeats = 2000)\n",
    "test_label = nd.concat(a, b, dim=0)"
   ]
  },
  {
   "cell_type": "code",
   "execution_count": 263,
   "metadata": {
    "ExecuteTime": {
     "end_time": "2019-02-26T22:41:31.261633Z",
     "start_time": "2019-02-26T22:41:31.230468Z"
    }
   },
   "outputs": [],
   "source": [
    "for k in range(11):\n",
    "    train_iter, test_iter = get_iter(train_dataset[k], train_label[k], test_dataset, test_label)\n",
    "    los = gloss.SigmoidBinaryCrossEntropyLoss()\n",
    "    net = getnet()\n",
    "    num_epochs = 5\n",
    "    trainer = gluon.Trainer(net.collect_params(), 'sgd', {'learning_rate': 0.1})\n",
    "    train(train_iter , test_iter)\n"
   ]
  },
  {
   "cell_type": "markdown",
   "metadata": {},
   "source": [
    "## 3. Covariate Shift Correction\n",
    "\n",
    "Having observed that covariate shift can be harmful, let's try fixing it. For this we first need to compute the appropriate propensity scores $\\frac{dp(x)}{dq(x)}$. For this purpose pick a biased dataset, let's say with $\\lambda = 0.1$ and try to fix the covariate shift.\n",
    "\n",
    "1. When training a logistic regression binary classifier to fix covariate shift, we assumed so far that both sets are of equal size. Show that re-weighting data in training and test set appropriately can help address the issue when both datasets have different size. What is the weighting?\n",
    "2. Train a binary classifier (using logistic regression) distinguishing between the biased training set and the unbiased test set. Note - you need to weigh the data. \n",
    "3. Use the scores to compute weights on the training set. Do they match the weight arising from the biasing distribution $\\lambda$? \n",
    "4. Train a binary classifier of the covariate shifted problem using the weights obtained previously and report the accuracy. Note - you will need to modify the training loop slightly such that you can compute the gradient of a weighted sum of losses. \n"
   ]
  },
  {
   "cell_type": "markdown",
   "metadata": {},
   "source": [
    "1. $$\\int d x q ( x ) f ( x ) = \\int d x p ( x ) \\underbrace { \\frac { q ( x ) } { p ( x ) } } _ { \\alpha ( x ) } f ( x ) = \\int d x p ( x ) \\alpha ( x ) f ( x ) \\\\\n",
    "r ( x , y ) = \\frac { 1 } { 2 } [ p ( x ) \\delta ( y , 1 ) + q ( x ) \\delta ( y , - 1 ) ]  \\\\\n",
    "r ( y = 1 | x ) = \\frac { p ( x ) } { p ( x ) + q ( x ) } \\text{ and hence } \\alpha = \\frac { q ( x ) } { p ( x ) } = \\frac { r ( y = - 1 | x ) } { r ( y = 1 | x ) } \\\\\n",
    "r ( y = 1 | x ) = \\frac { 1 } { 1 + \\exp ( - f ( x ) ) } \\\\  \n",
    "\\alpha ( x ) = \\frac { r ( y = - 1 | x ) } { r ( y = 1 | x ) } = \\exp ( f ( x ) )$$\n",
    "the weighting is $$exp(f(x_i))$$"
   ]
  },
  {
   "cell_type": "code",
   "execution_count": 274,
   "metadata": {
    "ExecuteTime": {
     "end_time": "2019-02-26T22:47:36.261586Z",
     "start_time": "2019-02-26T22:47:11.107195Z"
    },
    "scrolled": true
   },
   "outputs": [],
   "source": [
    "weights = []\n",
    "for k in range(11):\n",
    "    train_iter, test_iter = get_iter(train_dataset[k], train_label[k], test_dataset, test_label)\n",
    "    los = gloss.SigmoidBinaryCrossEntropyLoss()\n",
    "    net = getnet()\n",
    "    num_epochs = 5\n",
    "    trainer = gluon.Trainer(net.collect_params(), 'sgd', {'learning_rate': 0.1})\n",
    "    train(train_iter , test_iter)\n",
    "    weight = []\n",
    "    for X, y in train_iter:\n",
    "        weight.append(nd.exp(net(X)))\n",
    "    weights.append(weight)\n"
   ]
  },
  {
   "cell_type": "code",
   "execution_count": 275,
   "metadata": {
    "ExecuteTime": {
     "end_time": "2019-02-26T22:47:38.462118Z",
     "start_time": "2019-02-26T22:47:38.455481Z"
    }
   },
   "outputs": [
    {
     "data": {
      "text/plain": [
       "11"
      ]
     },
     "execution_count": 275,
     "metadata": {},
     "output_type": "execute_result"
    }
   ],
   "source": [
    "len(weights)"
   ]
  },
  {
   "cell_type": "code",
   "execution_count": 277,
   "metadata": {
    "ExecuteTime": {
     "end_time": "2019-02-26T22:48:12.845435Z",
     "start_time": "2019-02-26T22:48:12.839572Z"
    }
   },
   "outputs": [],
   "source": [
    "def train2(train_iter , test_iter, weight):\n",
    "    for epoch in range(num_epochs):\n",
    "        for X, y in train_iter:\n",
    "            with autograd.record():\n",
    "                yhat = net(X)\n",
    "                l = weight * los(yhat, y)\n",
    "            l.backward()\n",
    "            trainer.step(batch_size)\n",
    "        test_acc = evaluate_accuracy(test_iter, net)\n",
    "        print(test_acc)\n",
    "        \n",
    "for k in range(11):\n",
    "    net = getnet()\n",
    "    train_iter, test_iter = get_iter(train_dataset[k], train_label[k], test_dataset, test_label)\n",
    "    los = gloss.SigmoidBinaryCrossEntropyLoss()\n",
    "    net = getnet()\n",
    "    num_epochs = 5\n",
    "    trainer = gluon.Trainer(net.collect_params(), 'sgd', {'learning_rate': 0.1})\n",
    "    train2(train_iter, test_iter, weights[k])"
   ]
  },
  {
   "cell_type": "code",
   "execution_count": null,
   "metadata": {},
   "outputs": [],
   "source": []
  }
 ],
 "metadata": {
  "kernelspec": {
   "display_name": "Python 3",
   "language": "python",
   "name": "python3"
  },
  "language_info": {
   "codemirror_mode": {
    "name": "ipython",
    "version": 3
   },
   "file_extension": ".py",
   "mimetype": "text/x-python",
   "name": "python",
   "nbconvert_exporter": "python",
   "pygments_lexer": "ipython3",
   "version": "3.6.3"
  }
 },
 "nbformat": 4,
 "nbformat_minor": 2
}
