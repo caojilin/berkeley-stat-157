{
 "cells": [
  {
   "cell_type": "markdown",
   "metadata": {
    "slideshow": {
     "slide_type": "slide"
    }
   },
   "source": [
    "# Homework 1 - Berkeley STAT 157\n",
    "\n",
    "Handout 1/22/2017, due 1/29/2017 by 4pm in Git by committing to your repository. Please ensure that you add the TA Git account to your repository.\n",
    "\n",
    "1. Write all code in the notebook.\n",
    "1. Write all text in the notebook. You can use MathJax to insert math or generic Markdown to insert figures (it's unlikely you'll need the latter). \n",
    "1. **Execute** the notebook and **save** the results.\n",
    "1. To be safe, print the notebook as PDF and add it to the repository, too. Your repository should contain two files: ``homework1.ipynb`` and ``homework1.pdf``. \n",
    "\n",
    "The TA will return the corrected and annotated homework back to you via Git (please give `rythei` access to your repository)."
   ]
  },
  {
   "cell_type": "code",
   "execution_count": 1,
   "metadata": {
    "ExecuteTime": {
     "end_time": "2019-01-22T19:57:47.188990Z",
     "start_time": "2019-01-22T19:57:46.107420Z"
    }
   },
   "outputs": [],
   "source": [
    "from mxnet import ndarray as nd\n",
    "import time\n",
    "import numpy as np"
   ]
  },
  {
   "cell_type": "markdown",
   "metadata": {},
   "source": [
    "## 1. Speedtest for vectorization\n",
    "\n",
    "Your goal is to measure the speed of linear algebra operations for different levels of vectorization. You need to use `wait_to_read()` on the output to ensure that the result is computed completely, since NDArray uses asynchronous computation. Please see http://beta.mxnet.io/api/ndarray/_autogen/mxnet.ndarray.NDArray.wait_to_read.html for details. \n",
    "\n",
    "1. Construct two matrices $A$ and $B$ with Gaussian random entries of size $4096 \\times 4096$. \n",
    "1. Compute $C = A B$ using matrix-matrix operations and report the time. \n",
    "1. Compute $C = A B$, treating $A$ as a matrix but computing the result for each column of $B$ one at a time. Report the time.\n",
    "1. Compute $C = A B$, treating $A$ and $B$ as collections of vectors. Report the time.\n",
    "1. Bonus question - what changes if you execute this on a GPU?"
   ]
  },
  {
   "cell_type": "code",
   "execution_count": null,
   "metadata": {},
   "outputs": [
    {
     "name": "stdout",
     "output_type": "stream",
     "text": [
      "A is  \n",
      "[[ 1.1630785   0.4838046   0.29956347 ...  1.6892971   1.0433246\n",
      "   1.4861063 ]\n",
      " [ 1.1784046  -0.90841913 -0.3742974  ...  1.8522055  -1.810564\n",
      "  -1.0253091 ]\n",
      " [ 0.01498137  0.12917036  1.0849217  ... -0.8227321   0.23276122\n",
      "  -1.4382302 ]\n",
      " ...\n",
      " [ 0.89425045  0.04806394  0.06638992 ... -0.47666612 -0.812731\n",
      "   1.0233624 ]\n",
      " [ 0.47591528 -0.34719884  0.54473215 ...  0.03410461  0.05183557\n",
      "  -0.20439205]\n",
      " [-0.03636989 -2.5792549  -1.0895498  ...  0.8099311  -1.8143338\n",
      "   0.9271581 ]]\n",
      "<NDArray 4096x4096 @cpu(0)>\n",
      "B is  \n",
      "[[ 0.9049744  -0.8291842   0.5853669  ... -1.7501848  -0.54217017\n",
      "   0.9640368 ]\n",
      " [-0.3738427   1.5078995  -1.4877979  ... -2.4101987   0.80884403\n",
      "   1.5183809 ]\n",
      " [-0.67060167 -2.0757015   0.1026388  ... -1.1176999  -0.7563753\n",
      "  -1.0046531 ]\n",
      " ...\n",
      " [-1.0118686   0.04218809  0.7046732  ...  0.02222571  0.6179356\n",
      "  -0.9676133 ]\n",
      " [ 1.3284602  -0.9398111  -1.621257   ... -0.02329569 -1.4178526\n",
      "   1.1862245 ]\n",
      " [ 1.3548605  -2.0296354   0.7279279  ...  0.43979612  0.06064154\n",
      "  -1.8767449 ]]\n",
      "<NDArray 4096x4096 @cpu(0)>\n",
      "C is  \n",
      "[[  -2.4852314  -70.51441    -43.297504  ...   32.111645    39.163864\n",
      "    42.287174 ]\n",
      " [ -73.327545    81.64272     29.711971  ...   -4.6506023   62.44887\n",
      "   -51.935448 ]\n",
      " [ -61.31721    -81.85114     27.35779   ...   16.068897   -53.425385\n",
      "     1.5909405]\n",
      " ...\n",
      " [   5.8201594   -4.8893347   66.280846  ...   62.732594   -14.044717\n",
      "    65.47873  ]\n",
      " [  49.1659      12.246477   -72.58566   ...  -11.2032795  -51.961483\n",
      "    65.27093  ]\n",
      " [  -4.6915264  -10.696812  -201.5127    ...  -15.668251    37.73766\n",
      "    52.128265 ]]\n",
      "<NDArray 4096x4096 @cpu(0)>\n",
      "Q2 takes 0.6093330383300781\n"
     ]
    }
   ],
   "source": [
    "# 1. Construct two matrices A and B with Gaussian random entries of size  4096×4096. \n",
    "A = nd.random.normal(0, 1, shape=(4096, 4096))\n",
    "B = nd.random.normal(0, 1, shape=(4096, 4096))\n",
    "print(\"A is \", A)\n",
    "print(\"B is \", B)\n",
    "# 2. Compute C=AB using matrix-matrix operations and report the time.\n",
    "tic = time.time()\n",
    "C = nd.dot(A,B)\n",
    "C.wait_to_read()\n",
    "print(\"C is \", C)\n",
    "print(\"Q2 takes\", time.time()- tic)\n",
    "\n",
    "# 3. Compute 𝐶=𝐴𝐵, treating 𝐴 as a matrix but computing the result for each column of 𝐵 one at a time. Report the time.\n",
    "tic = time.time()\n",
    "C=nd.empty((4096,4096))\n",
    "for i in range(4096):\n",
    "    C[:,i] = nd.dot(A,B[:,i])\n",
    "C.wait_to_read()\n",
    "print(\"C is \", C)\n",
    "print(\"Q3 takes\", time.time() - tic)\n",
    "\n",
    "# 4. Compute 𝐶=𝐴𝐵, treating 𝐴 and 𝐵 as collections of vectors. Report the time.\n",
    "tic = time.time()\n",
    "C=nd.zeros((4096,4096))\n",
    "for i in range(4096):\n",
    "    a = A[:,i].reshape(4096,1)\n",
    "    b = B[i,]\n",
    "    C += nd.dot(a,b)\n",
    "C.wait_to_read()\n",
    "print(\"C is \", C)\n",
    "print(\"Q4 takes\", time.time() - tic)"
   ]
  },
  {
   "cell_type": "raw",
   "metadata": {},
   "source": [
    "# 5. Bonus question - what changes if you execute this on a GPU?\n",
    "C is  \n",
    "[[   5.10151    -26.479908    51.007046  ...   -7.6662846  101.42892\n",
    "  -101.52199  ]\n",
    " [  -2.1350617   42.957516   -27.059277  ...   50.633324    29.264465\n",
    "    85.48187  ]\n",
    " [ 179.61974    104.31986    -42.850132  ...    4.7839103  -12.166648\n",
    "    33.1283   ]\n",
    " ...\n",
    " [ -19.17156    -24.856695    72.80984   ...   36.38449    -28.801596\n",
    "     8.885324 ]\n",
    " [-181.8011       2.5132995   -8.995185  ...  -78.88388    -61.098442\n",
    "   -65.81219  ]\n",
    " [  64.21795     35.151497   -58.09991   ...   39.043945    62.03618\n",
    "     1.4770678]]\n",
    "<NDArray 4096x4096 @gpu(0)>\n",
    "Time taken to compute C = AB is  1.7138192653656006\n"
   ]
  },
  {
   "cell_type": "markdown",
   "metadata": {},
   "source": [
    "## 2. Semidefinite Matrices\n",
    "\n",
    "Assume that $A \\in \\mathbb{R}^{m \\times n}$ is an arbitrary matrix and that $D \\in \\mathbb{R}^{n \\times n}$ is a diagonal matrix with nonnegative entries. \n",
    "\n",
    "1. Prove that $B = A D A^\\top$ is a positive semidefinite matrix. \n",
    "1. When would it be useful to work with $B$ and when is it better to use $A$ and $D$?"
   ]
  },
  {
   "cell_type": "markdown",
   "metadata": {},
   "source": [
    "1. Let x be an arbitrary non-zero vector. $x^{T}Bx = x^{T}ADA^{T}x= (A^{T}x)^{T}DA^{T}x = b^{T}Db = \\sum\\limits_{i=1}^{n} \\lambda_{i} b_{i}^2 >=0$. so B is a PSD \n",
    "\n",
    "2. B is eigendecomposed, so we can get a basis of orthonormal eigenvectors, and their eigenvalues are real. When calculating the power of B, it's easy to use $ADA^{T}$"
   ]
  },
  {
   "cell_type": "markdown",
   "metadata": {},
   "source": [
    "## 3. MXNet on GPUs\n",
    "\n",
    "1. Install GPU drivers (if needed)\n",
    "1. Install MXNet on a GPU instance\n",
    "1. Display `!nvidia-smi`\n",
    "1. Create a $2 \\times 2$ matrix on the GPU and print it. See http://d2l.ai/chapter_deep-learning-computation/use-gpu.html for details."
   ]
  },
  {
   "cell_type": "raw",
   "metadata": {},
   "source": [
    "ubuntu@ip-172-31-37-85:~$ nvidia-smi\n",
    "Sun Jan 27 08:13:31 2019       \n",
    "+-----------------------------------------------------------------------------+\n",
    "| NVIDIA-SMI 410.79       Driver Version: 410.79       CUDA Version: 10.0     |\n",
    "|-------------------------------+----------------------+----------------------+\n",
    "| GPU  Name        Persistence-M| Bus-Id        Disp.A | Volatile Uncorr. ECC |\n",
    "| Fan  Temp  Perf  Pwr:Usage/Cap|         Memory-Usage | GPU-Util  Compute M. |\n",
    "|===============================+======================+======================|\n",
    "|   0  Tesla V100-SXM2...  On   | 00000000:00:1E.0 Off |                    0 |\n",
    "| N/A   36C    P0    26W / 300W |      0MiB / 16130MiB |      0%      Default |\n",
    "+-------------------------------+----------------------+----------------------+\n",
    "                                                                               \n",
    "+-----------------------------------------------------------------------------+\n",
    "| Processes:                                                       GPU Memory |\n",
    "|  GPU       PID   Type   Process name                             Usage      |\n",
    "|=============================================================================|\n",
    "|  No running processes found                                                 |\n",
    "+-----------------------------------------------------------------------------+\n",
    "\n",
    "ubuntu@ip-172-31-37-85:~$ python run_gpu.py\n",
    "\n",
    "[[0. 1.]\n",
    " [2. 3.]]\n",
    "<NDArray 2x2 @gpu(0)>\n",
    "ubuntu@ip-172-31-37-85:~$ "
   ]
  },
  {
   "cell_type": "markdown",
   "metadata": {},
   "source": [
    "## 4. NDArray and NumPy \n",
    "\n",
    "Your goal is to measure the speed penalty between MXNet Gluon and Python when converting data between both. We are going to do this as follows:\n",
    "\n",
    "1. Create two Gaussian random matrices $A, B$ of size $4096 \\times 4096$ in NDArray. \n",
    "1. Compute a vector $\\mathbf{c} \\in \\mathbb{R}^{4096}$ where $c_i = \\|A B_{i\\cdot}\\|^2$ where $\\mathbf{c}$ is a **NumPy** vector.\n",
    "\n",
    "To see the difference in speed due to Python perform the following two experiments and measure the time:\n",
    "\n",
    "1. Compute $\\|A B_{i\\cdot}\\|^2$ one at a time and assign its outcome to $\\mathbf{c}_i$ directly.\n",
    "1. Use an intermediate storage vector $\\mathbf{d}$ in NDArray for assignments and copy to NumPy at the end."
   ]
  },
  {
   "cell_type": "code",
   "execution_count": null,
   "metadata": {},
   "outputs": [],
   "source": [
    "A = nd.array(nd.random.normal(shape=(4096,4096)))\n",
    "B = nd.array(nd.random.normal(shape=(4096,4096)))\n",
    "# 1. Compute ∥ABi∥2 one at a time and assign its outcome to ci directly.\n",
    "start = time.time()\n",
    "c = np.zeros((4096,1))\n",
    "for i in range(4096):\n",
    "    c[i] = nd.norm(nd.dot(A, B[:,i])).asscalar()\n",
    "end = time.time()\n",
    "print(\"Method 1 takes \", end - start)\n",
    "\n",
    "# 2. Use an intermediate storage d in NDArray for assignments and copy to NumPy at the end.\n",
    "start = time.time()\n",
    "c = np.zeros((4096,1))\n",
    "d = nd.zeros((4096,1))\n",
    "for i in range(4096):\n",
    "    d[i] = nd.norm(nd.dot(A, B[:,i])).asscalar()\n",
    "c = d.asnumpy()\n",
    "end = time.time()\n",
    "print(\"Method 2 takes \", end - start)"
   ]
  },
  {
   "cell_type": "markdown",
   "metadata": {},
   "source": [
    "## 5. Memory efficient computation\n",
    "\n",
    "We want to compute $C \\leftarrow A \\cdot B + C$, where $A, B$ and $C$ are all matrices. Implement this in the most memory efficient manner. Pay attention to the following two things:\n",
    "\n",
    "1. Do not allocate new memory for the new value of $C$.\n",
    "1. Do not allocate new memory for intermediate results if possible."
   ]
  },
  {
   "cell_type": "code",
   "execution_count": null,
   "metadata": {
    "slideshow": {
     "slide_type": "notes"
    }
   },
   "outputs": [],
   "source": [
    "#tic = time.time()\n",
    "C = nd.elemwise_add(nd.dot(A,B),C)\n",
    "#print(time.time()-tic)\n",
    "#tic = time.time()\n",
    "nd.elemwise_add(nd.dot(A,B),C,out=C)\n",
    "#print(time.time()-tic)"
   ]
  },
  {
   "cell_type": "markdown",
   "metadata": {},
   "source": [
    "## 6. Broadcast Operations\n",
    "\n",
    "In order to perform polynomial fitting we want to compute a design matrix $A$ with \n",
    "\n",
    "$$A_{ij} = x_i^j$$\n",
    "\n",
    "Our goal is to implement this **without a single for loop** entirely using vectorization and broadcast. Here $1 \\leq j \\leq 20$ and $x = \\{-10, -9.9, \\ldots 10\\}$. Implement code that generates such a matrix."
   ]
  },
  {
   "cell_type": "code",
   "execution_count": null,
   "metadata": {},
   "outputs": [],
   "source": [
    "j=nd.arange(1,21)\n",
    "x=nd.arange(-10,11).reshape(21,1)\n",
    "nd.broadcast_power(x,j)"
   ]
  },
  {
   "cell_type": "code",
   "execution_count": null,
   "metadata": {},
   "outputs": [],
   "source": []
  }
 ],
 "metadata": {
  "celltoolbar": "Slideshow",
  "kernelspec": {
   "display_name": "Python 3",
   "language": "python",
   "name": "python3"
  },
  "language_info": {
   "codemirror_mode": {
    "name": "ipython",
    "version": 3
   },
   "file_extension": ".py",
   "mimetype": "text/x-python",
   "name": "python",
   "nbconvert_exporter": "python",
   "pygments_lexer": "ipython3",
   "version": "3.6.8"
  }
 },
 "nbformat": 4,
 "nbformat_minor": 2
}
