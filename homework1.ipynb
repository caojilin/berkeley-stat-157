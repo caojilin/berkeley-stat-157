{
 "cells": [
  {
   "cell_type": "markdown",
   "metadata": {
    "slideshow": {
     "slide_type": "slide"
    }
   },
   "source": [
    "# Homework 1 - Berkeley STAT 157\n",
    "\n",
    "Handout 1/22/2017, due 1/29/2017 by 4pm in Git by committing to your repository. Please ensure that you add the TA Git account to your repository.\n",
    "\n",
    "1. Write all code in the notebook.\n",
    "1. Write all text in the notebook. You can use MathJax to insert math or generic Markdown to insert figures (it's unlikely you'll need the latter). \n",
    "1. **Execute** the notebook and **save** the results.\n",
    "1. To be safe, print the notebook as PDF and add it to the repository, too. Your repository should contain two files: ``homework1.ipynb`` and ``homework1.pdf``. \n",
    "\n",
    "The TA will return the corrected and annotated homework back to you via Git (please give `rythei` access to your repository)."
   ]
  },
  {
   "cell_type": "code",
   "execution_count": 2,
   "metadata": {
    "ExecuteTime": {
     "end_time": "2019-01-22T19:57:47.188990Z",
     "start_time": "2019-01-22T19:57:46.107420Z"
    }
   },
   "outputs": [],
   "source": [
    "from mxnet import ndarray as nd\n",
    "import time\n",
    "import numpy as np"
   ]
  },
  {
   "cell_type": "markdown",
   "metadata": {},
   "source": [
    "## 1. Speedtest for vectorization\n",
    "\n",
    "Your goal is to measure the speed of linear algebra operations for different levels of vectorization. You need to use `wait_to_read()` on the output to ensure that the result is computed completely, since NDArray uses asynchronous computation. Please see http://beta.mxnet.io/api/ndarray/_autogen/mxnet.ndarray.NDArray.wait_to_read.html for details. \n",
    "\n",
    "1. Construct two matrices $A$ and $B$ with Gaussian random entries of size $4096 \\times 4096$. \n",
    "1. Compute $C = A B$ using matrix-matrix operations and report the time. \n",
    "1. Compute $C = A B$, treating $A$ as a matrix but computing the result for each column of $B$ one at a time. Report the time.\n",
    "1. Compute $C = A B$, treating $A$ and $B$ as collections of vectors. Report the time.\n",
    "1. Bonus question - what changes if you execute this on a GPU?"
   ]
  },
  {
   "cell_type": "code",
   "execution_count": 5,
   "metadata": {},
   "outputs": [
    {
     "name": "stdout",
     "output_type": "stream",
     "text": [
      "A is  \n",
      "[[ 0.04010138 -0.82130146  0.02005161 ...  0.80797803  0.0349124\n",
      "  -0.9425538 ]\n",
      " [ 0.4579651   0.35110465 -2.7191465  ...  0.2302415   0.2839324\n",
      "  -0.54985106]\n",
      " [-1.1534044   0.30501708  0.80644757 ... -1.6631485   0.69836503\n",
      "   0.6364544 ]\n",
      " ...\n",
      " [ 0.5691745  -1.0284108  -0.515387   ...  0.40762436  1.068956\n",
      "  -0.01077725]\n",
      " [ 0.34715003 -0.70612836 -0.7524027  ... -0.4507234   1.2779481\n",
      "   0.852945  ]\n",
      " [ 0.24677981 -0.17408593  1.8073856  ...  0.7218124  -0.4130202\n",
      "  -0.07617839]]\n",
      "<NDArray 4096x4096 @cpu(0)>\n",
      "B is  \n",
      "[[ 1.2563426e+00  2.0983241e+00 -6.1626399e-01 ...  7.1981925e-01\n",
      "  -1.5064095e-01 -1.6847348e+00]\n",
      " [-5.9105557e-01 -7.4600556e-04  3.9198685e-01 ... -2.2434056e+00\n",
      "   2.0302789e+00  6.1633265e-01]\n",
      " [-6.1852258e-01  2.1420236e-01 -5.6821045e-02 ...  4.1352261e-02\n",
      "  -1.0406296e+00  1.0598879e+00]\n",
      " ...\n",
      " [ 2.7899129e+00  1.4155358e-01  1.0943099e+00 ...  5.1718676e-01\n",
      "  -1.2406477e+00 -8.1241745e-01]\n",
      " [-1.1760486e+00  2.6735411e+00 -2.4220882e-01 ... -3.0564606e-01\n",
      "   1.5179449e+00  2.4704537e+00]\n",
      " [-1.3527721e+00  7.0983845e-01 -2.0442135e+00 ... -1.5420042e+00\n",
      "  -1.7140442e-01  4.6152738e-03]]\n",
      "<NDArray 4096x4096 @cpu(0)>\n",
      "C is  \n",
      "[[ -13.285672   -28.294012  -120.399765  ...  112.58602    -35.496662\n",
      "  -109.732544 ]\n",
      " [  30.453777    23.37611    -56.675674  ...   24.243011    49.816593\n",
      "    15.3279705]\n",
      " [ -24.976767   -35.074642   -30.914444  ...   -4.885561   -10.728184\n",
      "    76.08944  ]\n",
      " ...\n",
      " [-151.3319     107.07407   -125.48469   ...   56.779675   129.2976\n",
      "  -109.78065  ]\n",
      " [ -45.615746   -22.664043    -7.4296336 ...  121.454994   -58.20906\n",
      "   -95.325264 ]\n",
      " [ -82.03247     -5.521243    30.89802   ...  -11.5960655 -122.28372\n",
      "     1.2381835]]\n",
      "<NDArray 4096x4096 @cpu(0)>\n",
      "Q2 takes 1.3674461841583252\n",
      "C is  \n",
      "[[ -13.285627   -28.294062  -120.39978   ...  112.58604    -35.496643\n",
      "  -109.732544 ]\n",
      " [  30.453712    23.376108   -56.67568   ...   24.242981    49.81656\n",
      "    15.32799  ]\n",
      " [ -24.976753   -35.07466    -30.914482  ...   -4.8855286  -10.728184\n",
      "    76.08942  ]\n",
      " ...\n",
      " [-151.33191    107.074066  -125.484665  ...   56.779675   129.29756\n",
      "  -109.78069  ]\n",
      " [ -45.615738   -22.664051    -7.4296474 ...  121.45499    -58.209015\n",
      "   -95.32531  ]\n",
      " [ -82.03244     -5.521265    30.89798   ...  -11.596052  -122.28375\n",
      "     1.2382298]]\n",
      "<NDArray 4096x4096 @cpu(0)>\n",
      "Q3 takes 23.638182163238525\n",
      "C is  \n",
      "[[ -13.2856455  -28.294075  -120.39991   ...  112.58585    -35.4967\n",
      "  -109.73244  ]\n",
      " [  30.453823    23.376108   -56.675602  ...   24.242912    49.816586\n",
      "    15.327974 ]\n",
      " [ -24.976778   -35.074673   -30.914282  ...   -4.885559   -10.728128\n",
      "    76.08936  ]\n",
      " ...\n",
      " [-151.3321     107.074196  -125.484535  ...   56.77968    129.2975\n",
      "  -109.780495 ]\n",
      " [ -45.615623   -22.664017    -7.4296207 ...  121.45502    -58.209126\n",
      "   -95.32538  ]\n",
      " [ -82.03248     -5.521231    30.89808   ...  -11.596074  -122.283905\n",
      "     1.2382019]]\n",
      "<NDArray 4096x4096 @cpu(0)>\n",
      "Q4 takes 179.12236976623535\n"
     ]
    }
   ],
   "source": [
    "# 1. Construct two matrices A and B with Gaussian random entries of size  4096×4096. \n",
    "A = nd.random.normal(0, 1, shape=(4096, 4096))\n",
    "B = nd.random.normal(0, 1, shape=(4096, 4096))\n",
    "print(\"A is \", A)\n",
    "print(\"B is \", B)\n",
    "# 2. Compute C=AB using matrix-matrix operations and report the time.\n",
    "tic = time.time()\n",
    "C = nd.dot(A,B)\n",
    "C.wait_to_read()\n",
    "print(\"C is \", C)\n",
    "print(\"Q2 takes\", time.time()- tic)\n",
    "\n",
    "# 3. Compute 𝐶=𝐴𝐵, treating 𝐴 as a matrix but computing the result for each column of 𝐵 one at a time. Report the time.\n",
    "tic = time.time()\n",
    "C=nd.empty((4096,4096))\n",
    "for i in range(4096):\n",
    "    C[:,i] = nd.dot(A,B[:,i])\n",
    "C.wait_to_read()\n",
    "print(\"C is \", C)\n",
    "print(\"Q3 takes\", time.time() - tic)\n",
    "\n",
    "# 4. Compute 𝐶=𝐴𝐵, treating 𝐴 and 𝐵 as collections of vectors. Report the time.\n",
    "tic = time.time()\n",
    "C=nd.zeros((4096,4096))\n",
    "for i in range(4096):\n",
    "    a = A[:,i].reshape(4096,1)\n",
    "    b = B[i,:].reshape(1,4096)\n",
    "    C += nd.dot(a,b)\n",
    "C.wait_to_read()\n",
    "print(\"C is \", C)\n",
    "print(\"Q4 takes\", time.time() - tic)"
   ]
  },
  {
   "cell_type": "markdown",
   "metadata": {},
   "source": [
    "5. Bonus question - what changes if you execute this on a GPU?\n"
   ]
  },
  {
   "cell_type": "raw",
   "metadata": {},
   "source": [
    "C is  \n",
    "[[ -13.2856455  -28.294075  -120.39991   ...  112.58585    -35.4967\n",
    "  -109.73244  ]\n",
    " [  30.453823    23.376108   -56.675602  ...   24.242912    49.816586\n",
    "    15.327974 ]\n",
    " [ -24.976778   -35.074673   -30.914282  ...   -4.885559   -10.728128\n",
    "    76.08936  ]\n",
    " ...\n",
    " [-151.3321     107.074196  -125.484535  ...   56.77968    129.2975\n",
    "  -109.780495 ]\n",
    " [ -45.615623   -22.664017    -7.4296207 ...  121.45502    -58.209126\n",
    "   -95.32538  ]\n",
    " [ -82.03248     -5.521231    30.89808   ...  -11.596074  -122.283905\n",
    "     1.2382019]]\n",
    "<NDArray 4096x4096 @gpu(0)>\n",
    "Q5 takes 1.7138192653656006"
   ]
  },
  {
   "cell_type": "markdown",
   "metadata": {},
   "source": [
    "## 2. Semidefinite Matrices\n",
    "\n",
    "Assume that $A \\in \\mathbb{R}^{m \\times n}$ is an arbitrary matrix and that $D \\in \\mathbb{R}^{n \\times n}$ is a diagonal matrix with nonnegative entries. \n",
    "\n",
    "1. Prove that $B = A D A^\\top$ is a positive semidefinite matrix. \n",
    "1. When would it be useful to work with $B$ and when is it better to use $A$ and $D$?"
   ]
  },
  {
   "cell_type": "markdown",
   "metadata": {},
   "source": [
    "1. Let x be an arbitrary non-zero vector. $x^{T}Bx = x^{T}ADA^{T}x= (A^{T}x)^{T}DA^{T}x = b^{T}Db = \\sum\\limits_{i=1}^{n} \\lambda_{i} b_{i}^2 >=0$. so B is a PSD \n",
    "\n",
    "2. B is diagnolizable. Assume the eigenvalues are postive, then we can get a basis of orthonormal eigenvectors, many calculations become easier using orthonormal eigenbasis. When calculating the power of B, it's easy to use $ADA^{T}$"
   ]
  },
  {
   "cell_type": "markdown",
   "metadata": {},
   "source": [
    "## 3. MXNet on GPUs\n",
    "\n",
    "1. Install GPU drivers (if needed)\n",
    "1. Install MXNet on a GPU instance\n",
    "1. Display `!nvidia-smi`\n",
    "1. Create a $2 \\times 2$ matrix on the GPU and print it. See http://d2l.ai/chapter_deep-learning-computation/use-gpu.html for details."
   ]
  },
  {
   "cell_type": "raw",
   "metadata": {},
   "source": [
    "ubuntu@ip-172-31-37-85:~$ nvidia-smi\n",
    "Sun Jan 27 08:13:31 2019       \n",
    "+-----------------------------------------------------------------------------+\n",
    "| NVIDIA-SMI 410.79       Driver Version: 410.79       CUDA Version: 10.0     |\n",
    "|-------------------------------+----------------------+----------------------+\n",
    "| GPU  Name        Persistence-M| Bus-Id        Disp.A | Volatile Uncorr. ECC |\n",
    "| Fan  Temp  Perf  Pwr:Usage/Cap|         Memory-Usage | GPU-Util  Compute M. |\n",
    "|===============================+======================+======================|\n",
    "|   0  Tesla V100-SXM2...  On   | 00000000:00:1E.0 Off |                    0 |\n",
    "| N/A   36C    P0    26W / 300W |      0MiB / 16130MiB |      0%      Default |\n",
    "+-------------------------------+----------------------+----------------------+\n",
    "                                                                               \n",
    "+-----------------------------------------------------------------------------+\n",
    "| Processes:                                                       GPU Memory |\n",
    "|  GPU       PID   Type   Process name                             Usage      |\n",
    "|=============================================================================|\n",
    "|  No running processes found                                                 |\n",
    "+-----------------------------------------------------------------------------+\n",
    "\n",
    "\n",
    "[[0. 1.]\n",
    " [2. 3.]]\n",
    "<NDArray 2x2 @gpu(0)>\n"
   ]
  },
  {
   "cell_type": "markdown",
   "metadata": {},
   "source": [
    "## 4. NDArray and NumPy \n",
    "\n",
    "Your goal is to measure the speed penalty between MXNet Gluon and Python when converting data between both. We are going to do this as follows:\n",
    "\n",
    "1. Create two Gaussian random matrices $A, B$ of size $4096 \\times 4096$ in NDArray. \n",
    "1. Compute a vector $\\mathbf{c} \\in \\mathbb{R}^{4096}$ where $c_i = \\|A B_{i\\cdot}\\|^2$ where $\\mathbf{c}$ is a **NumPy** vector.\n",
    "\n",
    "To see the difference in speed due to Python perform the following two experiments and measure the time:\n",
    "\n",
    "1. Compute $\\|A B_{i\\cdot}\\|^2$ one at a time and assign its outcome to $\\mathbf{c}_i$ directly.\n",
    "1. Use an intermediate storage vector $\\mathbf{d}$ in NDArray for assignments and copy to NumPy at the end."
   ]
  },
  {
   "cell_type": "code",
   "execution_count": 3,
   "metadata": {},
   "outputs": [
    {
     "name": "stdout",
     "output_type": "stream",
     "text": [
      "Method 1 takes  24.796633005142212\n",
      "Method 2 takes  23.578938007354736\n"
     ]
    }
   ],
   "source": [
    "A = nd.random.normal(shape=(4096,4096))\n",
    "B = nd.random.normal(shape=(4096,4096))\n",
    "# 1. Compute ∥ABi∥2 one at a time and assign its outcome to ci directly.\n",
    "c = np.zeros((4096,1))\n",
    "start = time.time()\n",
    "for i in range(4096):\n",
    "    c[i] = nd.norm(nd.dot(A, B[:,i])).asscalar()  \n",
    "end = time.time()\n",
    "print(\"Method 1 takes \", end - start)\n",
    "\n",
    "# 2. Use an intermediate storage d in NDArray for assignments and copy to NumPy at the end.\n",
    "\n",
    "d = nd.zeros((4096,1))\n",
    "start = time.time()\n",
    "for i in range(4096):\n",
    "    d[i] = nd.norm(nd.dot(A, B[:,i])).asscalar()\n",
    "c = d.asnumpy()\n",
    "end = time.time()\n",
    "print(\"Method 2 takes \", end - start)"
   ]
  },
  {
   "cell_type": "markdown",
   "metadata": {},
   "source": [
    "## 5. Memory efficient computation\n",
    "\n",
    "We want to compute $C \\leftarrow A \\cdot B + C$, where $A, B$ and $C$ are all matrices. Implement this in the most memory efficient manner. Pay attention to the following two things:\n",
    "\n",
    "1. Do not allocate new memory for the new value of $C$.\n",
    "1. Do not allocate new memory for intermediate results if possible."
   ]
  },
  {
   "cell_type": "code",
   "execution_count": 4,
   "metadata": {
    "slideshow": {
     "slide_type": "notes"
    }
   },
   "outputs": [
    {
     "data": {
      "text/plain": [
       "\n",
       "[[-6.43394279e+00 -1.37317566e+02 -8.94156723e+01 ...  6.33354111e+01\n",
       "   7.78073883e+01  8.15101318e+01]\n",
       " [-1.49630295e+02  1.58471893e+02  6.12498245e+01 ... -5.57203674e+00\n",
       "   1.27422363e+02 -9.79201736e+01]\n",
       " [-1.26177185e+02 -1.60241714e+02  5.05774918e+01 ...  3.18762283e+01\n",
       "  -1.06060280e+02  2.81837463e-01]\n",
       " ...\n",
       " [ 1.89660625e+01 -1.08990974e+01  1.35774994e+02 ...  1.20331802e+02\n",
       "  -3.09089050e+01  1.33221344e+02]\n",
       " [ 9.73447418e+01  2.68981476e+01 -1.48852234e+02 ... -2.40328922e+01\n",
       "  -1.02886139e+02  1.24706306e+02]\n",
       " [-1.58903694e+00 -2.09539986e+01 -3.99479187e+02 ... -3.73300819e+01\n",
       "   7.10207214e+01  1.08717667e+02]]\n",
       "<NDArray 4096x4096 @cpu(0)>"
      ]
     },
     "execution_count": 4,
     "metadata": {},
     "output_type": "execute_result"
    }
   ],
   "source": [
    "C = nd.zeros((4096,4096))\n",
    "#tic = time.time()\n",
    "C = nd.elemwise_add(nd.dot(A,B),C)\n",
    "#print(time.time()-tic)\n",
    "#tic = time.time()\n",
    "nd.elemwise_add(nd.dot(A,B),C,out=C)\n",
    "#print(time.time()-tic)"
   ]
  },
  {
   "cell_type": "markdown",
   "metadata": {},
   "source": [
    "## 6. Broadcast Operations\n",
    "\n",
    "In order to perform polynomial fitting we want to compute a design matrix $A$ with \n",
    "\n",
    "$$A_{ij} = x_i^j$$\n",
    "\n",
    "Our goal is to implement this **without a single for loop** entirely using vectorization and broadcast. Here $1 \\leq j \\leq 20$ and $x = \\{-10, -9.9, \\ldots 10\\}$. Implement code that generates such a matrix."
   ]
  },
  {
   "cell_type": "code",
   "execution_count": 8,
   "metadata": {},
   "outputs": [
    {
     "data": {
      "text/plain": [
       "\n",
       "[[-1.00000000e+01  1.00000000e+02 -1.00000000e+03  1.00000000e+04\n",
       "  -1.00000000e+05  1.00000000e+06 -1.00000000e+07  1.00000000e+08\n",
       "  -1.00000000e+09  1.00000000e+10 -9.99999980e+10  9.99999996e+11\n",
       "  -9.99999983e+12  1.00000000e+14 -9.99999987e+14  1.00000003e+16\n",
       "  -9.99999984e+16  9.99999984e+17 -9.99999998e+18  1.00000002e+20]\n",
       " [-9.00000000e+00  8.10000000e+01 -7.29000000e+02  6.56100000e+03\n",
       "  -5.90490000e+04  5.31441000e+05 -4.78296900e+06  4.30467200e+07\n",
       "  -3.87420480e+08  3.48678451e+09 -3.13810596e+10  2.82429522e+11\n",
       "  -2.54186593e+12  2.28767931e+13 -2.05891136e+14  1.85302015e+15\n",
       "  -1.66771819e+16  1.50094642e+17 -1.35085174e+18  1.21576651e+19]\n",
       " [-8.00000000e+00  6.40000000e+01 -5.12000000e+02  4.09600000e+03\n",
       "  -3.27680000e+04  2.62144000e+05 -2.09715200e+06  1.67772160e+07\n",
       "  -1.34217728e+08  1.07374182e+09 -8.58993459e+09  6.87194767e+10\n",
       "  -5.49755814e+11  4.39804651e+12 -3.51843721e+13  2.81474977e+14\n",
       "  -2.25179981e+15  1.80143985e+16 -1.44115188e+17  1.15292150e+18]\n",
       " [-7.00000000e+00  4.90000000e+01 -3.43000000e+02  2.40100000e+03\n",
       "  -1.68070000e+04  1.17649000e+05 -8.23543000e+05  5.76480100e+06\n",
       "  -4.03536080e+07  2.82475264e+08 -1.97732672e+09  1.38412872e+10\n",
       "  -9.68890122e+10  6.78223086e+11 -4.74756153e+12  3.32329302e+13\n",
       "  -2.32630511e+14  1.62841363e+15 -1.13988947e+16  7.97922632e+16]\n",
       " [-6.00000000e+00  3.60000000e+01 -2.16000000e+02  1.29600000e+03\n",
       "  -7.77600000e+03  4.66560000e+04 -2.79936000e+05  1.67961600e+06\n",
       "  -1.00776960e+07  6.04661760e+07 -3.62797056e+08  2.17678234e+09\n",
       "  -1.30606940e+10  7.83641641e+10 -4.70184985e+11  2.82110984e+12\n",
       "  -1.69266591e+13  1.01559954e+14 -6.09359759e+14  3.65615856e+15]\n",
       " [-5.00000000e+00  2.50000000e+01 -1.25000000e+02  6.25000000e+02\n",
       "  -3.12500000e+03  1.56250000e+04 -7.81250000e+04  3.90625000e+05\n",
       "  -1.95312500e+06  9.76562500e+06 -4.88281240e+07  2.44140624e+08\n",
       "  -1.22070310e+09  6.10351565e+09 -3.05175777e+10  1.52587895e+11\n",
       "  -7.62939441e+11  3.81469721e+12 -1.90734863e+13  9.53674336e+13]\n",
       " [-4.00000000e+00  1.60000000e+01 -6.40000000e+01  2.56000000e+02\n",
       "  -1.02400000e+03  4.09600000e+03 -1.63840000e+04  6.55360000e+04\n",
       "  -2.62144000e+05  1.04857600e+06 -4.19430400e+06  1.67772160e+07\n",
       "  -6.71088640e+07  2.68435456e+08 -1.07374182e+09  4.29496730e+09\n",
       "  -1.71798692e+10  6.87194767e+10 -2.74877907e+11  1.09951163e+12]\n",
       " [-3.00000000e+00  9.00000000e+00 -2.70000000e+01  8.10000000e+01\n",
       "  -2.43000000e+02  7.29000000e+02 -2.18700000e+03  6.56100000e+03\n",
       "  -1.96830000e+04  5.90490000e+04 -1.77147000e+05  5.31441000e+05\n",
       "  -1.59432300e+06  4.78296900e+06 -1.43489070e+07  4.30467200e+07\n",
       "  -1.29140160e+08  3.87420480e+08 -1.16226150e+09  3.48678451e+09]\n",
       " [-2.00000000e+00  4.00000000e+00 -8.00000000e+00  1.60000000e+01\n",
       "  -3.20000000e+01  6.40000000e+01 -1.28000000e+02  2.56000000e+02\n",
       "  -5.12000000e+02  1.02400000e+03 -2.04800000e+03  4.09600000e+03\n",
       "  -8.19200000e+03  1.63840000e+04 -3.27680000e+04  6.55360000e+04\n",
       "  -1.31072000e+05  2.62144000e+05 -5.24288000e+05  1.04857600e+06]\n",
       " [-1.00000000e+00  1.00000000e+00 -1.00000000e+00  1.00000000e+00\n",
       "  -1.00000000e+00  1.00000000e+00 -1.00000000e+00  1.00000000e+00\n",
       "  -1.00000000e+00  1.00000000e+00 -1.00000000e+00  1.00000000e+00\n",
       "  -1.00000000e+00  1.00000000e+00 -1.00000000e+00  1.00000000e+00\n",
       "  -1.00000000e+00  1.00000000e+00 -1.00000000e+00  1.00000000e+00]\n",
       " [ 0.00000000e+00  0.00000000e+00  0.00000000e+00  0.00000000e+00\n",
       "   0.00000000e+00  0.00000000e+00  0.00000000e+00  0.00000000e+00\n",
       "   0.00000000e+00  0.00000000e+00  0.00000000e+00  0.00000000e+00\n",
       "   0.00000000e+00  0.00000000e+00  0.00000000e+00  0.00000000e+00\n",
       "   0.00000000e+00  0.00000000e+00  0.00000000e+00  0.00000000e+00]\n",
       " [ 1.00000000e+00  1.00000000e+00  1.00000000e+00  1.00000000e+00\n",
       "   1.00000000e+00  1.00000000e+00  1.00000000e+00  1.00000000e+00\n",
       "   1.00000000e+00  1.00000000e+00  1.00000000e+00  1.00000000e+00\n",
       "   1.00000000e+00  1.00000000e+00  1.00000000e+00  1.00000000e+00\n",
       "   1.00000000e+00  1.00000000e+00  1.00000000e+00  1.00000000e+00]\n",
       " [ 2.00000000e+00  4.00000000e+00  8.00000000e+00  1.60000000e+01\n",
       "   3.20000000e+01  6.40000000e+01  1.28000000e+02  2.56000000e+02\n",
       "   5.12000000e+02  1.02400000e+03  2.04800000e+03  4.09600000e+03\n",
       "   8.19200000e+03  1.63840000e+04  3.27680000e+04  6.55360000e+04\n",
       "   1.31072000e+05  2.62144000e+05  5.24288000e+05  1.04857600e+06]\n",
       " [ 3.00000000e+00  9.00000000e+00  2.70000000e+01  8.10000000e+01\n",
       "   2.43000000e+02  7.29000000e+02  2.18700000e+03  6.56100000e+03\n",
       "   1.96830000e+04  5.90490000e+04  1.77147000e+05  5.31441000e+05\n",
       "   1.59432300e+06  4.78296900e+06  1.43489070e+07  4.30467200e+07\n",
       "   1.29140160e+08  3.87420480e+08  1.16226150e+09  3.48678451e+09]\n",
       " [ 4.00000000e+00  1.60000000e+01  6.40000000e+01  2.56000000e+02\n",
       "   1.02400000e+03  4.09600000e+03  1.63840000e+04  6.55360000e+04\n",
       "   2.62144000e+05  1.04857600e+06  4.19430400e+06  1.67772160e+07\n",
       "   6.71088640e+07  2.68435456e+08  1.07374182e+09  4.29496730e+09\n",
       "   1.71798692e+10  6.87194767e+10  2.74877907e+11  1.09951163e+12]\n",
       " [ 5.00000000e+00  2.50000000e+01  1.25000000e+02  6.25000000e+02\n",
       "   3.12500000e+03  1.56250000e+04  7.81250000e+04  3.90625000e+05\n",
       "   1.95312500e+06  9.76562500e+06  4.88281240e+07  2.44140624e+08\n",
       "   1.22070310e+09  6.10351565e+09  3.05175777e+10  1.52587895e+11\n",
       "   7.62939441e+11  3.81469721e+12  1.90734863e+13  9.53674336e+13]\n",
       " [ 6.00000000e+00  3.60000000e+01  2.16000000e+02  1.29600000e+03\n",
       "   7.77600000e+03  4.66560000e+04  2.79936000e+05  1.67961600e+06\n",
       "   1.00776960e+07  6.04661760e+07  3.62797056e+08  2.17678234e+09\n",
       "   1.30606940e+10  7.83641641e+10  4.70184985e+11  2.82110984e+12\n",
       "   1.69266591e+13  1.01559954e+14  6.09359759e+14  3.65615856e+15]\n",
       " [ 7.00000000e+00  4.90000000e+01  3.43000000e+02  2.40100000e+03\n",
       "   1.68070000e+04  1.17649000e+05  8.23543000e+05  5.76480100e+06\n",
       "   4.03536080e+07  2.82475264e+08  1.97732672e+09  1.38412872e+10\n",
       "   9.68890122e+10  6.78223086e+11  4.74756153e+12  3.32329302e+13\n",
       "   2.32630511e+14  1.62841363e+15  1.13988947e+16  7.97922632e+16]\n",
       " [ 8.00000000e+00  6.40000000e+01  5.12000000e+02  4.09600000e+03\n",
       "   3.27680000e+04  2.62144000e+05  2.09715200e+06  1.67772160e+07\n",
       "   1.34217728e+08  1.07374182e+09  8.58993459e+09  6.87194767e+10\n",
       "   5.49755814e+11  4.39804651e+12  3.51843721e+13  2.81474977e+14\n",
       "   2.25179981e+15  1.80143985e+16  1.44115188e+17  1.15292150e+18]\n",
       " [ 9.00000000e+00  8.10000000e+01  7.29000000e+02  6.56100000e+03\n",
       "   5.90490000e+04  5.31441000e+05  4.78296900e+06  4.30467200e+07\n",
       "   3.87420480e+08  3.48678451e+09  3.13810596e+10  2.82429522e+11\n",
       "   2.54186593e+12  2.28767931e+13  2.05891136e+14  1.85302015e+15\n",
       "   1.66771819e+16  1.50094642e+17  1.35085174e+18  1.21576651e+19]\n",
       " [ 1.00000000e+01  1.00000000e+02  1.00000000e+03  1.00000000e+04\n",
       "   1.00000000e+05  1.00000000e+06  1.00000000e+07  1.00000000e+08\n",
       "   1.00000000e+09  1.00000000e+10  9.99999980e+10  9.99999996e+11\n",
       "   9.99999983e+12  1.00000000e+14  9.99999987e+14  1.00000003e+16\n",
       "   9.99999984e+16  9.99999984e+17  9.99999998e+18  1.00000002e+20]]\n",
       "<NDArray 21x20 @cpu(0)>"
      ]
     },
     "execution_count": 8,
     "metadata": {},
     "output_type": "execute_result"
    }
   ],
   "source": [
    "j=nd.arange(1,21)\n",
    "x=nd.arange(-10,11).reshape(21,1)\n",
    "nd.broadcast_power(x,j)\n",
    "#x**j"
   ]
  },
  {
   "cell_type": "code",
   "execution_count": null,
   "metadata": {},
   "outputs": [],
   "source": []
  }
 ],
 "metadata": {
  "celltoolbar": "Slideshow",
  "kernelspec": {
   "display_name": "Python 3",
   "language": "python",
   "name": "python3"
  },
  "language_info": {
   "codemirror_mode": {
    "name": "ipython",
    "version": 3
   },
   "file_extension": ".py",
   "mimetype": "text/x-python",
   "name": "python",
   "nbconvert_exporter": "python",
   "pygments_lexer": "ipython3",
   "version": "3.6.3"
  }
 },
 "nbformat": 4,
 "nbformat_minor": 2
}
