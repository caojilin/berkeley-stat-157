{
 "cells": [
  {
   "cell_type": "markdown",
   "metadata": {},
   "source": [
    "#  Homework 5 - Berkeley STAT 157\n",
    "\n",
    "**Your name: XX, SID YY** (Please add your name, and SID to ease Ryan and Rachel to grade.)\n",
    "\n",
    "**Please submit your homework through [gradescope](http://gradescope.com/) instead of Github, so you will get the score distribution for each question. Please enroll in the [class](https://www.gradescope.com/courses/42432) by the Entry code: MXG5G5** \n",
    "\n",
    "Handout 2/19/2019, due 2/26/2019 by 4pm in Git by committing to your repository.\n",
    "\n",
    "In this homework, we will model covariate shift and attempt to fix it using logistic regression. This is a fairly realistic scenario for data scientists. To keep things well under control and understandable we will use [Fashion-MNIST](http://d2l.ai/chapter_linear-networks/fashion-mnist.html) as the data to experiment on. \n",
    "\n",
    "Follow the instructions from the Fashion MNIST notebook to get the data."
   ]
  },
  {
   "cell_type": "code",
   "execution_count": 1,
   "metadata": {
    "ExecuteTime": {
     "end_time": "2019-02-26T15:54:56.369130Z",
     "start_time": "2019-02-26T15:54:54.042044Z"
    },
    "attributes": {
     "classes": [],
     "id": "",
     "n": "3"
    },
    "scrolled": true
   },
   "outputs": [],
   "source": [
    "%matplotlib inline\n",
    "from mxnet import autograd, gluon, init, nd\n",
    "from mxnet.gluon import data as gdata, loss as gloss, nn, utils\n",
    "import numpy as np\n",
    "from matplotlib import pyplot as plt\n",
    "import mxnet as mx\n",
    "\n",
    "mnist_train = gdata.vision.FashionMNIST(train=True)\n",
    "mnist_test = gdata.vision.FashionMNIST(train=False)"
   ]
  },
  {
   "cell_type": "markdown",
   "metadata": {},
   "source": [
    "## 1. Logistic Regression\n",
    "\n",
    "1. Implement the logistic loss function $l(y,f) = -\\log(1 + \\exp(-y f))$ in Gluon.\n",
    "2. Plot its values and its derivative for $y = 1$ and $f \\in [-5, 5]$, using automatic differentiation in Gluon.\n",
    "3. Generate training and test datasets for a binary classification problem using Fashion-MNIST with class $1$ being a combination of `shirt` and `sweater` and class $-1$ being the combination of `sandal` and `sneaker` categories. \n",
    "4. Train a binary classifier of your choice (it can be linear or a simple MLP such as from a previous lecture) using half the data (i.e. $12,000$ observations mixed as abvove) and one using the full dataset (i.e. $24,000$ observations as arising from the 4 categories) and report its accuracy. \n",
    "\n",
    "Hint - you should encapsulate the training and reporting code in a callable function since you'll need it quite a bit in the following. "
   ]
  },
  {
   "cell_type": "code",
   "execution_count": 3,
   "metadata": {
    "ExecuteTime": {
     "end_time": "2019-02-26T15:56:11.079145Z",
     "start_time": "2019-02-26T15:56:10.869350Z"
    },
    "scrolled": true
   },
   "outputs": [
    {
     "data": {
      "image/png": "[encoded data removed]",
      "text/plain": [
       "<Figure size 432x288 with 1 Axes>"
      ]
     },
     "metadata": {
      "needs_background": "light"
     },
     "output_type": "display_data"
    }
   ],
   "source": [
    "def logisticLoss(f, y):\n",
    "    return -nd.log(1 + nd.exp(-y * f))\n",
    "\n",
    "y = nd.ones(1)\n",
    "f = nd.arange(-5, 5, 0.1)\n",
    "f.attach_grad()\n",
    "with autograd.record():\n",
    "    l = logisticLoss(f, y)\n",
    "l.backward()\n",
    "\n",
    "plt.plot(f.asnumpy(), f.grad.asnumpy())\n",
    "plt.plot(f.asnumpy(), l.asnumpy())\n",
    "plt.show()\n"
   ]
  },
  {
   "cell_type": "code",
   "execution_count": 250,
   "metadata": {},
   "outputs": [],
   "source": [
    "train_features = mnist_train[:][0]\n",
    "train_labels = mnist_train[:][1]\n",
    "test_features = mnist_test[:][0]\n",
    "test_labels = mnist_test[:][1]"
   ]
  },
  {
   "cell_type": "code",
   "execution_count": 251,
   "metadata": {},
   "outputs": [],
   "source": [
    "train_shoes = [nd.array(x, dtype='float32') for x, y in zip(train_features, train_labels) if y == 5 or y == 7]\n",
    "train_cloths = [nd.array(x, dtype='float32') for x, y in zip(train_features, train_labels) if y == 2 or y == 6]\n",
    "train = train_shoes + train_cloths\n",
    "\n",
    "a = nd.repeat(nd.array([-1], dtype='float32'), repeats = 12000)\n",
    "b = nd.repeat(nd.array([1], dtype='float32'), repeats = 12000)\n",
    "train_label = nd.concat(a, b, dim=0)"
   ]
  },
  {
   "cell_type": "code",
   "execution_count": 237,
   "metadata": {},
   "outputs": [],
   "source": [
    "test_shoes = [nd.array(x, dtype='float32') for x, y in zip(test_features, test_labels) if y == 5 or y == 7]\n",
    "test_cloths = [nd.array(x, dtype='float32') for x, y in zip(test_features, test_labels) if y == 2 or y == 6]\n",
    "test = test_shoes + test_cloths\n",
    "\n",
    "a = nd.repeat(nd.array([-1], dtype='float32'), repeats = 2000)\n",
    "b = nd.repeat(nd.array([1], dtype='float32'), repeats = 2000)\n",
    "test_label = nd.concat(a, b, dim=0)"
   ]
  },
  {
   "cell_type": "code",
   "execution_count": 238,
   "metadata": {},
   "outputs": [],
   "source": [
    "batch_size = 64"
   ]
  },
  {
   "cell_type": "code",
   "execution_count": 239,
   "metadata": {
    "scrolled": true
   },
   "outputs": [],
   "source": [
    "train_iter = gdata.DataLoader(gdata.ArrayDataset(\n",
    "    train, train_label), batch_size, shuffle=True)\n",
    "\n",
    "test_iter = gdata.DataLoader(gdata.ArrayDataset(\n",
    "    test, test_label), batch_size, shuffle=False)"
   ]
  },
  {
   "cell_type": "code",
   "execution_count": 257,
   "metadata": {},
   "outputs": [],
   "source": [
    "net = nn.Sequential()\n",
    "net.add(nn.Dense(1))\n",
    "net.initialize()\n"
   ]
  },
  {
   "cell_type": "code",
   "execution_count": 271,
   "metadata": {},
   "outputs": [],
   "source": [
    "num_epochs = 5\n",
    "loss = logisticLoss\n",
    "trainer = gluon.Trainer(net.collect_params(), 'sgd', {'learning_rate': 0.1})"
   ]
  },
  {
   "cell_type": "code",
   "execution_count": 272,
   "metadata": {},
   "outputs": [],
   "source": [
    "def accuracy(y_hat, y):\n",
    "    return (y_hat.argmax(axis=1) == y.astype('float32')).mean().asscalar()\n",
    "def evaluate_accuracy(data_iter, net):\n",
    "    acc_sum, n = 0.0, 0\n",
    "    for X, y in data_iter:\n",
    "        y = y.astype('float32')\n",
    "        acc_sum += (net(X).argmax(axis=1) == y).sum().asscalar()\n",
    "        n += y.size\n",
    "    return acc_sum / n"
   ]
  },
  {
   "cell_type": "code",
   "execution_count": 273,
   "metadata": {},
   "outputs": [
    {
     "name": "stdout",
     "output_type": "stream",
     "text": [
      "0.0\n",
      "0.0\n",
      "0.0\n",
      "0.0\n",
      "0.0\n"
     ]
    }
   ],
   "source": [
    "for epoch in range(num_epochs):\n",
    "    for X, y in train_iter:\n",
    "        with autograd.record():\n",
    "            l = loss(net(X), y)\n",
    "        l.backward()\n",
    "        trainer.step(batch_size)\n",
    "    test_acc = evaluate_accuracy(test_iter, net)\n",
    "    print(test_acc)"
   ]
  },
  {
   "cell_type": "code",
   "execution_count": 248,
   "metadata": {
    "scrolled": true
   },
   "outputs": [
    {
     "data": {
      "text/plain": [
       "\n",
       "[[nan nan nan nan nan nan nan nan nan nan nan nan nan nan nan nan nan nan\n",
       "  nan nan nan nan nan nan nan nan nan nan nan nan nan nan nan nan nan nan\n",
       "  nan nan nan nan nan nan nan nan nan nan nan nan nan nan nan nan nan nan\n",
       "  nan nan nan nan nan nan nan nan nan nan nan nan nan nan nan nan nan nan\n",
       "  nan nan nan nan nan nan nan nan nan nan nan nan nan nan nan nan nan nan\n",
       "  nan nan nan nan nan nan nan nan nan nan nan nan nan nan nan nan nan nan\n",
       "  nan nan nan nan nan nan nan nan nan nan nan nan nan nan nan nan nan nan\n",
       "  nan nan nan nan nan nan nan nan nan nan nan nan nan nan nan nan nan nan\n",
       "  nan nan nan nan nan nan nan nan nan nan nan nan nan nan nan nan nan nan\n",
       "  nan nan nan nan nan nan nan nan nan nan nan nan nan nan nan nan nan nan\n",
       "  nan nan nan nan nan nan nan nan nan nan nan nan nan nan nan nan nan nan\n",
       "  nan nan nan nan nan nan nan nan nan nan nan nan nan nan nan nan nan nan\n",
       "  nan nan nan nan nan nan nan nan nan nan nan nan nan nan nan nan nan nan\n",
       "  nan nan nan nan nan nan nan nan nan nan nan nan nan nan nan nan nan nan\n",
       "  nan nan nan nan nan nan nan nan nan nan nan nan nan nan nan nan nan nan\n",
       "  nan nan nan nan nan nan nan nan nan nan nan nan nan nan nan nan nan nan\n",
       "  nan nan nan nan nan nan nan nan nan nan nan nan nan nan nan nan nan nan\n",
       "  nan nan nan nan nan nan nan nan nan nan nan nan nan nan nan nan nan nan\n",
       "  nan nan nan nan nan nan nan nan nan nan nan nan nan nan nan nan nan nan\n",
       "  nan nan nan nan nan nan nan nan nan nan nan nan nan nan nan nan nan nan\n",
       "  nan nan nan nan nan nan nan nan nan nan nan nan nan nan nan nan nan nan\n",
       "  nan nan nan nan nan nan nan nan nan nan nan nan nan nan nan nan nan nan\n",
       "  nan nan nan nan nan nan nan nan nan nan nan nan nan nan nan nan nan nan\n",
       "  nan nan nan nan nan nan nan nan nan nan nan nan nan nan nan nan nan nan\n",
       "  nan nan nan nan nan nan nan nan nan nan nan nan nan nan nan nan nan nan\n",
       "  nan nan nan nan nan nan nan nan nan nan nan nan nan nan nan nan nan nan\n",
       "  nan nan nan nan nan nan nan nan nan nan nan nan nan nan nan nan nan nan\n",
       "  nan nan nan nan nan nan nan nan nan nan nan nan nan nan nan nan nan nan\n",
       "  nan nan nan nan nan nan nan nan nan nan nan nan nan nan nan nan nan nan\n",
       "  nan nan nan nan nan nan nan nan nan nan nan nan nan nan nan nan nan nan\n",
       "  nan nan nan nan nan nan nan nan nan nan nan nan nan nan nan nan nan nan\n",
       "  nan nan nan nan nan nan nan nan nan nan nan nan nan nan nan nan nan nan\n",
       "  nan nan nan nan nan nan nan nan nan nan nan nan nan nan nan nan nan nan\n",
       "  nan nan nan nan nan nan nan nan nan nan nan nan nan nan nan nan nan nan\n",
       "  nan nan nan nan nan nan nan nan nan nan nan nan nan nan nan nan nan nan\n",
       "  nan nan nan nan nan nan nan nan nan nan nan nan nan nan nan nan nan nan\n",
       "  nan nan nan nan nan nan nan nan nan nan nan nan nan nan nan nan nan nan\n",
       "  nan nan nan nan nan nan nan nan nan nan nan nan nan nan nan nan nan nan\n",
       "  nan nan nan nan nan nan nan nan nan nan nan nan nan nan nan nan nan nan\n",
       "  nan nan nan nan nan nan nan nan nan nan nan nan nan nan nan nan nan nan\n",
       "  nan nan nan nan nan nan nan nan nan nan nan nan nan nan nan nan nan nan\n",
       "  nan nan nan nan nan nan nan nan nan nan nan nan nan nan nan nan nan nan\n",
       "  nan nan nan nan nan nan nan nan nan nan nan nan nan nan nan nan nan nan\n",
       "  nan nan nan nan nan nan nan nan nan nan]]\n",
       "<NDArray 1x784 @cpu(0)>"
      ]
     },
     "execution_count": 248,
     "metadata": {},
     "output_type": "execute_result"
    }
   ],
   "source": [
    "net[0].weight.data()"
   ]
  },
  {
   "cell_type": "markdown",
   "metadata": {},
   "source": [
    "## 3. Covariate Shift Correction\n",
    "\n",
    "Having observed that covariate shift can be harmful, let's try fixing it. For this we first need to compute the appropriate propensity scores $\\frac{dp(x)}{dq(x)}$. For this purpose pick a biased dataset, let's say with $\\lambda = 0.1$ and try to fix the covariate shift.\n",
    "\n",
    "1. When training a logistic regression binary classifier to fix covariate shift, we assumed so far that both sets are of equal size. Show that re-weighting data in training and test set appropriately can help address the issue when both datasets have different size. What is the weighting?\n",
    "2. Train a binary classifier (using logistic regression) distinguishing between the biased training set and the unbiased test set. Note - you need to weigh the data. \n",
    "3. Use the scores to compute weights on the training set. Do they match the weight arising from the biasing distribution $\\lambda$? \n",
    "4. Train a binary classifier of the covariate shifted problem using the weights obtained previously and report the accuracy. Note - you will need to modify the training loop slightly such that you can compute the gradient of a weighted sum of losses. \n"
   ]
  }
 ],
 "metadata": {
  "kernelspec": {
   "display_name": "Python 3",
   "language": "python",
   "name": "python3"
  },
  "language_info": {
   "codemirror_mode": {
    "name": "ipython",
    "version": 3
   },
   "file_extension": ".py",
   "mimetype": "text/x-python",
   "name": "python",
   "nbconvert_exporter": "python",
   "pygments_lexer": "ipython3",
   "version": "3.6.3"
  }
 },
 "nbformat": 4,
 "nbformat_minor": 2
}
