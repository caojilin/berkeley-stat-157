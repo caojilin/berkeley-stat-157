{
 "cells": [
  {
   "cell_type": "markdown",
   "metadata": {},
   "source": [
    "#  Homework 5 - Berkeley STAT 157\n",
    "\n",
    "**Your name: XX, SID YY** (Please add your name, and SID to ease Ryan and Rachel to grade.)\n",
    "\n",
    "**Please submit your homework through [gradescope](http://gradescope.com/) instead of Github, so you will get the score distribution for each question. Please enroll in the [class](https://www.gradescope.com/courses/42432) by the Entry code: MXG5G5** \n",
    "\n",
    "Handout 2/19/2019, due 2/26/2019 by 4pm in Git by committing to your repository.\n",
    "\n",
    "In this homework, we will model covariate shift and attempt to fix it using logistic regression. This is a fairly realistic scenario for data scientists. To keep things well under control and understandable we will use [Fashion-MNIST](http://d2l.ai/chapter_linear-networks/fashion-mnist.html) as the data to experiment on. \n",
    "\n",
    "Follow the instructions from the Fashion MNIST notebook to get the data."
   ]
  },
  {
   "cell_type": "code",
   "execution_count": 1,
   "metadata": {
    "ExecuteTime": {
     "end_time": "2019-03-01T23:40:37.652396Z",
     "start_time": "2019-03-01T23:40:33.912263Z"
    },
    "attributes": {
     "classes": [],
     "id": "",
     "n": "3"
    },
    "scrolled": true
   },
   "outputs": [],
   "source": [
    "%matplotlib inline\n",
    "from mxnet import autograd, gluon, init, nd\n",
    "from mxnet.gluon import data as gdata, loss as gloss, nn, utils\n",
    "import numpy as np\n",
    "from matplotlib import pyplot as plt\n",
    "import d2l\n",
    "\n",
    "mnist_train = gdata.vision.FashionMNIST(train=True)\n",
    "mnist_test = gdata.vision.FashionMNIST(train=False)"
   ]
  },
  {
   "cell_type": "markdown",
   "metadata": {},
   "source": [
    "## 1. Logistic Regression\n",
    "\n",
    "1. Implement the logistic loss function $l(y,f) = -\\log(1 + \\exp(-y f))$ in Gluon.\n",
    "2. Plot its values and its derivative for $y = 1$ and $f \\in [-5, 5]$, using automatic differentiation in Gluon.\n",
    "3. Generate training and test datasets for a binary classification problem using Fashion-MNIST with class $1$ being a combination of `sneaker` and `pullover` and class $-1$ being the combination of `sandal` and `shirt` categories. \n",
    "4. Train a binary classifier of your choice (it can be linear or a simple MLP such as from a previous lecture) using half the data (i.e. $12,000$ observations mixed as abvove) and one using the full dataset (i.e. $24,000$ observations as arising from the 4 categories) and report its accuracy. \n",
    "\n",
    "Hint - you should encapsulate the training and reporting code in a callable function since you'll need it quite a bit in the following. "
   ]
  },
  {
   "cell_type": "code",
   "execution_count": 2,
   "metadata": {
    "ExecuteTime": {
     "end_time": "2019-03-01T23:40:38.100984Z",
     "start_time": "2019-03-01T23:40:37.657656Z"
    },
    "scrolled": true
   },
   "outputs": [
    {
     "data": {
      "image/png": "[encoded data removed]",
      "text/plain": [
       "<Figure size 432x288 with 1 Axes>"
      ]
     },
     "metadata": {
      "needs_background": "light"
     },
     "output_type": "display_data"
    }
   ],
   "source": [
    "#1\n",
    "def logisticLoss(f, y):\n",
    "    return -nd.log(1 + nd.exp(-y * f))\n",
    "#2\n",
    "y = nd.ones(1)\n",
    "f = nd.arange(-5, 5, 0.1)\n",
    "f.attach_grad()\n",
    "with autograd.record():\n",
    "    l = logisticLoss(f, y)\n",
    "l.backward()\n",
    "\n",
    "plt.plot(f.asnumpy(), f.grad.asnumpy())\n",
    "plt.plot(f.asnumpy(), l.asnumpy())\n",
    "plt.show()\n"
   ]
  },
  {
   "cell_type": "raw",
   "metadata": {},
   "source": [
    "Label\tDescription\n",
    "0\tT-shirt/top\n",
    "1\tTrouser\n",
    "2\tPullover\n",
    "3\tDress\n",
    "4\tCoat\n",
    "5\tSandal\n",
    "6\tShirt\n",
    "7\tSneaker\n",
    "8\tBag\n",
    "9\tAnkle boot\n"
   ]
  },
  {
   "cell_type": "code",
   "execution_count": 3,
   "metadata": {
    "ExecuteTime": {
     "end_time": "2019-03-01T23:40:46.062994Z",
     "start_time": "2019-03-01T23:40:38.105193Z"
    }
   },
   "outputs": [],
   "source": [
    "#3 \n",
    "def extract(data):\n",
    "    dataset = []\n",
    "    for i in range(len(data)):\n",
    "        feature, label = data[i]\n",
    "        label = d2l.get_fashion_mnist_labels([label])[0]\n",
    "        if label == \"sneaker\" or label == \"pullover\":\n",
    "            dataset.append((data[i][0].astype('float32').reshape(1, 784), nd.array([1])))\n",
    "        elif label == \"sandal\" or label == \"shirt\":\n",
    "            dataset.append((data[i][0].astype('float32').reshape(1, 784), nd.array([-1])))\n",
    "    return dataset\n",
    "\n",
    "new_train = extract(mnist_train)\n",
    "new_test = extract(mnist_test)"
   ]
  },
  {
   "cell_type": "code",
   "execution_count": 4,
   "metadata": {
    "ExecuteTime": {
     "end_time": "2019-03-01T23:40:46.074106Z",
     "start_time": "2019-03-01T23:40:46.067352Z"
    }
   },
   "outputs": [],
   "source": [
    "def getnet():\n",
    "    net = nn.Sequential()\n",
    "    net.add(nn.Dense(1))\n",
    "    net.initialize(init.Normal(sigma=0.01))\n",
    "    return net"
   ]
  },
  {
   "cell_type": "code",
   "execution_count": 5,
   "metadata": {
    "ExecuteTime": {
     "start_time": "2019-03-01T23:40:33.945Z"
    }
   },
   "outputs": [],
   "source": [
    "def predict(y):\n",
    "    return 1 if y[0].asscalar() > 0 else -1 \n",
    "\n",
    "def get_accuracy(data_iter, net):\n",
    "    acc_sum, n = nd.array([0]), 0\n",
    "    for X, y in data_iter:\n",
    "        y = y.astype('float32')\n",
    "        acc_sum += (predict(net(X)) == y).sum()\n",
    "        n += y.size\n",
    "    return acc_sum.asscalar() / n\n"
   ]
  },
  {
   "cell_type": "code",
   "execution_count": 6,
   "metadata": {
    "ExecuteTime": {
     "start_time": "2019-03-01T23:40:33.948Z"
    }
   },
   "outputs": [],
   "source": [
    "def train(train_iter, test_iter, loss, num_epochs, batch_size, lr=None):\n",
    "    net = getnet()\n",
    "    trainer = gluon.Trainer(net.collect_params(), 'adam', {'learning_rate': lr})\n",
    "    for epoch in range(num_epochs):\n",
    "        train_l_sum, train_acc_sum, n = 0.0, 0.0, 0\n",
    "#         print(len(train_iter))\n",
    "        for X, y in train_iter:\n",
    "#             print(X.shape)\n",
    "            with autograd.record():\n",
    "                y_hat = net(X)\n",
    "                l = loss(y_hat, y).sum()\n",
    "            l.backward()\n",
    "            trainer.step(batch_size)\n",
    "            y = y.astype('float32')\n",
    "            train_l_sum += l.asscalar()\n",
    "            train_acc_sum += (predict(y_hat) == y).sum().asscalar()\n",
    "            n += y.size\n",
    "        test_acc = get_accuracy(test_iter, net)\n",
    "        print('epoch %d, loss %.4f, train acc %.3f, test acc %.3f'\n",
    "              % (epoch + 1, train_l_sum / n, train_acc_sum / n, test_acc))\n",
    "    return net"
   ]
  },
  {
   "cell_type": "code",
   "execution_count": 15,
   "metadata": {
    "ExecuteTime": {
     "start_time": "2019-03-01T23:40:33.952Z"
    }
   },
   "outputs": [
    {
     "name": "stdout",
     "output_type": "stream",
     "text": [
      "epoch 1, loss 6832.9489, train acc 0.795, test acc 0.830\n",
      "epoch 2, loss 6994.4781, train acc 0.822, test acc 0.616\n",
      "epoch 3, loss 7087.2501, train acc 0.832, test acc 0.646\n"
     ]
    }
   ],
   "source": [
    "#4\n",
    "batch_size = 256\n",
    "loss = gloss.LogisticLoss()\n",
    "num_epochs, lr = 3, 0.5\n",
    "halved = new_train[:12000]\n",
    "trained_half = train(halved, new_test, loss, num_epochs, batch_size, lr)\n"
   ]
  },
  {
   "cell_type": "code",
   "execution_count": 11,
   "metadata": {
    "ExecuteTime": {
     "start_time": "2019-03-01T23:40:33.956Z"
    }
   },
   "outputs": [
    {
     "name": "stdout",
     "output_type": "stream",
     "text": [
      "epoch 1, loss 6985.5531, train acc 0.811, test acc 0.873\n",
      "epoch 2, loss 7380.3410, train acc 0.832, test acc 0.873\n",
      "epoch 3, loss 7317.9732, train acc 0.836, test acc 0.880\n"
     ]
    }
   ],
   "source": [
    "num_epochs, lr = 3, 0.5\n",
    "# training takes too long, so one epoch is enough.\n",
    "trained_full = train(new_train, new_test, loss, num_epochs, batch_size, lr)"
   ]
  },
  {
   "cell_type": "markdown",
   "metadata": {},
   "source": [
    "Our logistic Regression model can perfectly separate two categories. We got same accurary on train and test because two dataset come from same distribution"
   ]
  },
  {
   "cell_type": "markdown",
   "metadata": {},
   "source": [
    "## 2. Covariate Shift\n",
    "\n",
    "Your goal is to introduce covariate shit in the data and observe the accuracy. For this, compose a dataset of $12,000$ observations, given by a mixture of `shirt` and `sweater` and of `sandal` and `sneaker` respectively, where you use a fraction $\\lambda \\in \\{0.05, 0.1, 0.2, \\ldots 0.8, 0.9, 0.95\\}$ of one and a fraction of $1-\\lambda$ of  the other datasets respectively. For instance, you might pick for $\\lambda = 0.1$ a total of $600$ `shirt` and $5,400$ `sweater` images and likewise $600$ `sandal` and $5,400$ `sneaker` photos, yielding a total of $12,000$ images for training. Note that the test set remains unbiased, composed of $2,000$ photos for the `shirt` + `sweater` category and of the `sandal` + `sneaker` category each.\n",
    "\n",
    "1. Generate training sets that are appropriately biased. You should have 11 datasets.\n",
    "2. Train a binary classifier using this and report the test set accuracy on the unbiased test set. "
   ]
  },
  {
   "cell_type": "code",
   "execution_count": 7,
   "metadata": {
    "ExecuteTime": {
     "start_time": "2019-03-01T23:40:33.961Z"
    }
   },
   "outputs": [],
   "source": [
    "#1\n",
    "def get_data(frac, indices_map):\n",
    "    num_per_class = len(indices_map[2])\n",
    "    size_class_one = int(frac * num_per_class)\n",
    "    size_class_two = int((1 - frac) * num_per_class)\n",
    "    pullover_indices = np.random.choice(indices_map[2], size=size_class_one, replace = False)\n",
    "    sneaker_indices = np.random.choice(indices_map[7], size=size_class_two, replace = False)\n",
    "    shirts_indices = np.concatenate((pullover_indices, sneaker_indices), axis=0)\n",
    "\n",
    "    sandal_indices = np.random.choice(indices_map[5], size=size_class_two, replace = False)\n",
    "    shirt_indices = np.random.choice(indices_map[6], size=size_class_one, replace = False)\n",
    "    shoes_indices = np.concatenate((sandal_indices, shirt_indices), axis=0)\n",
    "    processed = []\n",
    "    for i in np.concatenate((shirts_indices, shoes_indices), axis=0):\n",
    "        feature, label = mnist_train[i]\n",
    "        if label == 2 or label == 7:\n",
    "            processed.append((mnist_train[i][0].astype('float32').reshape(1, 784), nd.array([1])))\n",
    "        elif label == 5 or label == 6:\n",
    "            processed.append((mnist_train[i][0].astype('float32').reshape(1, 784), nd.array([-1])))\n",
    "    return processed\n",
    "\n",
    "def indices(labels):\n",
    "    indices_map = {}\n",
    "    for i in labels:\n",
    "        indices_map[i] = list()\n",
    "    for i in range(len(mnist_train)):\n",
    "        _, label = mnist_train[i]\n",
    "        if label in indices_map:\n",
    "            indices_map[label].append(i)\n",
    "    return indices_map \n",
    "\n",
    "# 2 = pullover, 5 = sandal, 6 = shirt, 7 = sneaker.\n",
    "labels = [2, 5, 7, 6]\n",
    "indices_map = indices(labels) # indices map stores indices of each of the classes."
   ]
  },
  {
   "cell_type": "code",
   "execution_count": 8,
   "metadata": {
    "ExecuteTime": {
     "start_time": "2019-03-01T23:40:33.964Z"
    }
   },
   "outputs": [],
   "source": [
    "splitted_data = []\n",
    "frac = [0.05, 0.1, 0.2, 0.3, 0.4, 0.5, 0.6, 0.7, 0.8, 0.9, 0.95]\n",
    "for f in frac:\n",
    "    splitted_data.append(get_data(f, indices_map))"
   ]
  },
  {
   "cell_type": "code",
   "execution_count": 9,
   "metadata": {
    "ExecuteTime": {
     "start_time": "2019-03-01T23:40:33.971Z"
    }
   },
   "outputs": [
    {
     "name": "stdout",
     "output_type": "stream",
     "text": [
      "fraction =  0.05\n",
      "epoch 1, loss 9.2170, train acc 1.000, test acc 0.500\n",
      "epoch 2, loss 275.5560, train acc 0.999, test acc 0.500\n",
      "epoch 3, loss 558.4436, train acc 0.999, test acc 0.500\n",
      "\n",
      "fraction =  0.1\n",
      "epoch 1, loss 8.3322, train acc 1.000, test acc 0.500\n",
      "epoch 2, loss 295.8321, train acc 0.999, test acc 0.500\n",
      "epoch 3, loss 628.8992, train acc 0.998, test acc 0.500\n",
      "\n",
      "fraction =  0.2\n",
      "epoch 1, loss 5.8576, train acc 1.000, test acc 0.500\n",
      "epoch 2, loss 256.1671, train acc 0.999, test acc 0.500\n",
      "epoch 3, loss 521.1045, train acc 0.998, test acc 0.500\n",
      "\n",
      "fraction =  0.3\n",
      "epoch 1, loss 2.4011, train acc 1.000, test acc 0.500\n",
      "epoch 2, loss 400.2403, train acc 0.999, test acc 0.500\n",
      "epoch 3, loss 614.5046, train acc 0.998, test acc 0.500\n",
      "\n",
      "fraction =  0.4\n",
      "epoch 1, loss 6.6500, train acc 1.000, test acc 0.500\n",
      "epoch 2, loss 360.8222, train acc 0.999, test acc 0.500\n",
      "epoch 3, loss 578.8242, train acc 0.998, test acc 0.500\n",
      "\n",
      "fraction =  0.5\n",
      "epoch 1, loss 1.9005, train acc 1.000, test acc 0.500\n",
      "epoch 2, loss 210.3912, train acc 0.999, test acc 0.500\n",
      "epoch 3, loss 358.5376, train acc 0.998, test acc 0.500\n",
      "\n",
      "fraction =  0.6\n",
      "epoch 1, loss 7.6018, train acc 1.000, test acc 0.500\n",
      "epoch 2, loss 273.3808, train acc 0.999, test acc 0.500\n",
      "epoch 3, loss 483.0471, train acc 0.999, test acc 0.500\n",
      "\n",
      "fraction =  0.7\n",
      "epoch 1, loss 0.0208, train acc 1.000, test acc 0.500\n",
      "epoch 2, loss 224.7195, train acc 0.999, test acc 0.500\n",
      "epoch 3, loss 492.1620, train acc 0.998, test acc 0.500\n",
      "\n",
      "fraction =  0.8\n",
      "epoch 1, loss 4.3827, train acc 1.000, test acc 0.500\n",
      "epoch 2, loss 237.5205, train acc 0.999, test acc 0.500\n",
      "epoch 3, loss 357.2230, train acc 0.998, test acc 0.500\n",
      "\n",
      "fraction =  0.9\n",
      "epoch 1, loss 12.6584, train acc 1.000, test acc 0.500\n",
      "epoch 2, loss 265.6203, train acc 0.998, test acc 0.500\n",
      "epoch 3, loss 245.8700, train acc 0.999, test acc 0.500\n",
      "\n",
      "fraction =  0.95\n",
      "epoch 1, loss 0.0138, train acc 1.000, test acc 0.500\n",
      "epoch 2, loss 416.3008, train acc 0.999, test acc 0.500\n",
      "epoch 3, loss 330.0973, train acc 0.999, test acc 0.500\n",
      "\n"
     ]
    }
   ],
   "source": [
    "trained = []\n",
    "num_epochs, lr = 3, 0.5\n",
    "loss = gloss.LogisticLoss()\n",
    "for i, datum in enumerate(splitted_data):\n",
    "    print(\"fraction = \", frac[i])\n",
    "    trained.append(train(datum, new_test, loss, num_epochs, 256, lr))\n",
    "    print()"
   ]
  },
  {
   "cell_type": "markdown",
   "metadata": {},
   "source": [
    "## 3. Covariate Shift Correction\n",
    "\n",
    "Having observed that covariate shift can be harmful, let's try fixing it. For this we first need to compute the appropriate propensity scores $\\frac{dp(x)}{dq(x)}$. For this purpose pick a biased dataset, let's say with $\\lambda = 0.1$ and try to fix the covariate shift.\n",
    "\n",
    "1. When training a logistic regression binary classifier to fix covariate shift, we assumed so far that both sets are of equal size. Show that re-weighting data in training and test set appropriately can help address the issue when both datasets have different size. What is the weighting?\n",
    "2. Train a binary classifier (using logistic regression) distinguishing between the biased training set and the unbiased test set. Note - you need to weigh the data. \n",
    "3. Use the scores to compute weights on the training set. Do they match the weight arising from the biasing distribution $\\lambda$? \n",
    "4. Train a binary classifier of the covariate shifted problem using the weights obtained previously and report the accuracy. Note - you will need to modify the training loop slightly such that you can compute the gradient of a weighted sum of losses. \n"
   ]
  },
  {
   "cell_type": "markdown",
   "metadata": {},
   "source": [
    "1.  \n",
    "The idea is that we want to estimate p(y|x) with labeled data(xi,yi). However, samples are drawn from q(x) rather than p(x). We can show that we can reweight the data to correct covariate shift.\n",
    "$$\n",
    "\\begin{array} { c } { \\int  p ( x ) f ( x )d x = \\int q ( x ) f ( x )\\frac { p ( x ) } { q ( x ) } d x = \\int  q ( x )  f ( x ) \\alpha ( x )d x} \\\\\n",
    "{ \\alpha ( x ) = \\frac { p ( x ) } { q ( x ) } = \\exp ( f ( x ) ) } \\end{array}\n",
    "$$\n",
    "the weighting is $$\n",
    "\\exp \\left( f \\left( x \\right) \\right)\n",
    "$$"
   ]
  },
  {
   "cell_type": "code",
   "execution_count": 20,
   "metadata": {
    "ExecuteTime": {
     "start_time": "2019-03-01T23:40:33.976Z"
    },
    "scrolled": true
   },
   "outputs": [
    {
     "name": "stdout",
     "output_type": "stream",
     "text": [
      "epoch 1, loss 0.4407, train acc 1.000, test acc 0.500\n",
      "epoch 2, loss 33.5446, train acc 0.999, test acc 0.500\n",
      "epoch 3, loss 35.8785, train acc 0.999, test acc 0.500\n"
     ]
    }
   ],
   "source": [
    "#2\n",
    "def train_with_weight(weight, train_iter, test_iter, loss, num_epochs, batch_size, lr=None):\n",
    "    net = getnet()\n",
    "    trainer = gluon.Trainer(net.collect_params(), 'adam', {'learning_rate': lr})\n",
    "    for epoch in range(num_epochs):\n",
    "        train_l_sum, train_acc_sum, n = 0.0, 0.0, 0\n",
    "        for X, y in train_iter:\n",
    "            with autograd.record():\n",
    "                y_hat = net(X)\n",
    "                l = loss(y_hat, y).sum() * weight\n",
    "            l.backward()\n",
    "            trainer.step(batch_size)\n",
    "            y = y.astype('float32')\n",
    "            train_l_sum += l.asscalar()\n",
    "            train_acc_sum += (predict(y_hat) == y).sum().asscalar()\n",
    "            n += y.size\n",
    "        test_acc = get_accuracy(test_iter, net)\n",
    "        print('epoch %d, loss %.4f, train acc %.3f, test acc %.3f'\n",
    "              % (epoch + 1, train_l_sum / n, train_acc_sum / n, test_acc))\n",
    "    return net\n",
    "\n",
    "biased_dataset = splitted_data[1]\n",
    "\n",
    "train_test_mix = []\n",
    "for i in range(len(biased_dataset)):\n",
    "    train_test_mix.append((biased_dataset[i][0].astype('float32').reshape(1, 784), nd.array([-1])))\n",
    "for i in range(len(new_test)):\n",
    "    train_test_mix.append((new_test[i][0].astype('float32').reshape(1, 784), nd.array([1])))\n",
    "    \n",
    "num_epochs, lr = 3, 0.05\n",
    "loss = gloss.LogisticLoss()\n",
    "result = train_with_weight(1/3, train_test_mix, new_test, loss, num_epochs, 256, lr) #2000/6000 = 1/3"
   ]
  },
  {
   "cell_type": "markdown",
   "metadata": {},
   "source": [
    "we mixed biased traning dataset with unbiased test dataset. We got 99% accuracy on training dataset, which means that \n",
    "we can distinguish p(x) from q(x)."
   ]
  },
  {
   "cell_type": "code",
   "execution_count": 25,
   "metadata": {
    "ExecuteTime": {
     "start_time": "2019-03-01T23:40:33.984Z"
    }
   },
   "outputs": [],
   "source": [
    "#3\n",
    "def train_with_weight2(model, train_iter, test_iter, loss, num_epochs, batch_size, lr=None):\n",
    "    net = getnet()\n",
    "    trainer = gluon.Trainer(net.collect_params(), 'adam', {'learning_rate': lr})\n",
    "    for epoch in range(num_epochs):\n",
    "        train_l_sum, train_acc_sum, n = 0.0, 0.0, 0\n",
    "        for X, y in train_iter:\n",
    "            with autograd.record():\n",
    "                y_hat = net(X)\n",
    "#                 print(\"exp(x)\", nd.exp(model(X)))\n",
    "#                 l = nd.exp(model(X)).sum().asscalar() * loss(y_hat, y).sum()\n",
    "                l = min(nd.exp(nd.sigmoid(model(X))).sum().asscalar(), 100) * loss(y_hat, y).sum()\n",
    "                #Above: we are reweighting by βi  = min(exp(f(xi)),100) to correct the covariate shift.\n",
    "            l.backward()\n",
    "            trainer.step(batch_size)\n",
    "            y = y.astype('float32')\n",
    "            train_l_sum += l.asscalar()\n",
    "            train_acc_sum += (predict(y_hat) == y).sum().asscalar()\n",
    "            n += y.size\n",
    "        test_acc = get_accuracy(test_iter, net)\n",
    "        print('epoch %d, loss %.4f, train acc %.3f, test acc %.3f'\n",
    "              % (epoch + 1, train_l_sum / n, train_acc_sum / n, test_acc))\n",
    "    return net"
   ]
  },
  {
   "cell_type": "code",
   "execution_count": 26,
   "metadata": {
    "ExecuteTime": {
     "start_time": "2019-03-01T23:40:33.987Z"
    }
   },
   "outputs": [
    {
     "name": "stdout",
     "output_type": "stream",
     "text": [
      "epoch 1, loss 28.3563, train acc 1.000, test acc 0.500\n",
      "epoch 2, loss 723.1970, train acc 0.999, test acc 0.500\n",
      "epoch 3, loss 1469.8216, train acc 0.998, test acc 0.500\n",
      "epoch 4, loss 1109.3656, train acc 0.998, test acc 0.500\n",
      "epoch 5, loss 2033.0729, train acc 0.997, test acc 0.500\n"
     ]
    },
    {
     "data": {
      "text/plain": [
       "Sequential(\n",
       "  (0): Dense(784 -> 1, linear)\n",
       ")"
      ]
     },
     "execution_count": 26,
     "metadata": {},
     "output_type": "execute_result"
    }
   ],
   "source": [
    "#4\n",
    "num_epochs, lr = 5, 0.5\n",
    "train_with_weight2(result, splitted_data[1], new_test, loss, num_epochs, 256, lr)"
   ]
  },
  {
   "cell_type": "code",
   "execution_count": null,
   "metadata": {},
   "outputs": [],
   "source": []
  }
 ],
 "metadata": {
  "kernelspec": {
   "display_name": "Python 3",
   "language": "python",
   "name": "python3"
  },
  "language_info": {
   "codemirror_mode": {
    "name": "ipython",
    "version": 3
   },
   "file_extension": ".py",
   "mimetype": "text/x-python",
   "name": "python",
   "nbconvert_exporter": "python",
   "pygments_lexer": "ipython3",
   "version": "3.6.3"
  }
 },
 "nbformat": 4,
 "nbformat_minor": 2
}
